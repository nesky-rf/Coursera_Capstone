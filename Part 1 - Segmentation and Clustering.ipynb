{
 "cells": [
  {
   "cell_type": "markdown",
   "metadata": {},
   "source": [
    "# Part 1: Segmentation and Clustering Neighborhoods in Toronto"
   ]
  },
  {
   "cell_type": "markdown",
   "metadata": {},
   "source": [
    "## 1. Setup environment"
   ]
  },
  {
   "cell_type": "code",
   "execution_count": 376,
   "metadata": {
    "collapsed": true
   },
   "outputs": [
    {
     "name": "stdout",
     "output_type": "stream",
     "text": [
      "Requirement already satisfied: beautifulsoup4 in /opt/conda/envs/Python36/lib/python3.6/site-packages (4.7.1)\n",
      "Requirement already satisfied: soupsieve>=1.2 in /opt/conda/envs/Python36/lib/python3.6/site-packages (from beautifulsoup4) (1.7.1)\n",
      "Requirement already satisfied: lxml in /opt/conda/envs/Python36/lib/python3.6/site-packages (4.3.1)\n",
      "Requirement already satisfied: html5lib in /opt/conda/envs/Python36/lib/python3.6/site-packages (1.0.1)\n",
      "Requirement already satisfied: webencodings in /opt/conda/envs/Python36/lib/python3.6/site-packages (from html5lib) (0.5.1)\n",
      "Requirement already satisfied: six>=1.9 in /opt/conda/envs/Python36/lib/python3.6/site-packages (from html5lib) (1.12.0)\n",
      "Requirement already satisfied: requests in /opt/conda/envs/Python36/lib/python3.6/site-packages (2.21.0)\n",
      "Requirement already satisfied: certifi>=2017.4.17 in /opt/conda/envs/Python36/lib/python3.6/site-packages (from requests) (2019.11.28)\n",
      "Requirement already satisfied: urllib3<1.25,>=1.21.1 in /opt/conda/envs/Python36/lib/python3.6/site-packages (from requests) (1.24.1)\n",
      "Requirement already satisfied: chardet<3.1.0,>=3.0.2 in /opt/conda/envs/Python36/lib/python3.6/site-packages (from requests) (3.0.4)\n",
      "Requirement already satisfied: idna<2.9,>=2.5 in /opt/conda/envs/Python36/lib/python3.6/site-packages (from requests) (2.8)\n",
      "Requirement already satisfied: geocoder in /opt/conda/envs/Python36/lib/python3.6/site-packages (1.38.1)\n",
      "Requirement already satisfied: ratelim in /opt/conda/envs/Python36/lib/python3.6/site-packages (from geocoder) (0.1.6)\n",
      "Requirement already satisfied: requests in /opt/conda/envs/Python36/lib/python3.6/site-packages (from geocoder) (2.21.0)\n",
      "Requirement already satisfied: future in /opt/conda/envs/Python36/lib/python3.6/site-packages (from geocoder) (0.17.1)\n",
      "Requirement already satisfied: six in /opt/conda/envs/Python36/lib/python3.6/site-packages (from geocoder) (1.12.0)\n",
      "Requirement already satisfied: click in /opt/conda/envs/Python36/lib/python3.6/site-packages (from geocoder) (7.0)\n",
      "Requirement already satisfied: decorator in /opt/conda/envs/Python36/lib/python3.6/site-packages (from ratelim->geocoder) (4.3.2)\n",
      "Requirement already satisfied: idna<2.9,>=2.5 in /opt/conda/envs/Python36/lib/python3.6/site-packages (from requests->geocoder) (2.8)\n",
      "Requirement already satisfied: urllib3<1.25,>=1.21.1 in /opt/conda/envs/Python36/lib/python3.6/site-packages (from requests->geocoder) (1.24.1)\n",
      "Requirement already satisfied: certifi>=2017.4.17 in /opt/conda/envs/Python36/lib/python3.6/site-packages (from requests->geocoder) (2019.11.28)\n",
      "Requirement already satisfied: chardet<3.1.0,>=3.0.2 in /opt/conda/envs/Python36/lib/python3.6/site-packages (from requests->geocoder) (3.0.4)\n",
      "Requirement already satisfied: folium in /opt/conda/envs/Python36/lib/python3.6/site-packages (0.7.0)\n",
      "Requirement already satisfied: branca>=0.3.0 in /opt/conda/envs/Python36/lib/python3.6/site-packages (from folium) (0.4.0)\n",
      "Requirement already satisfied: requests in /opt/conda/envs/Python36/lib/python3.6/site-packages (from folium) (2.21.0)\n",
      "Requirement already satisfied: jinja2 in /opt/conda/envs/Python36/lib/python3.6/site-packages (from folium) (2.10)\n",
      "Requirement already satisfied: numpy in /opt/conda/envs/Python36/lib/python3.6/site-packages (from folium) (1.15.4)\n",
      "Requirement already satisfied: six in /opt/conda/envs/Python36/lib/python3.6/site-packages (from folium) (1.12.0)\n",
      "Requirement already satisfied: certifi>=2017.4.17 in /opt/conda/envs/Python36/lib/python3.6/site-packages (from requests->folium) (2019.11.28)\n",
      "Requirement already satisfied: idna<2.9,>=2.5 in /opt/conda/envs/Python36/lib/python3.6/site-packages (from requests->folium) (2.8)\n",
      "Requirement already satisfied: urllib3<1.25,>=1.21.1 in /opt/conda/envs/Python36/lib/python3.6/site-packages (from requests->folium) (1.24.1)\n",
      "Requirement already satisfied: chardet<3.1.0,>=3.0.2 in /opt/conda/envs/Python36/lib/python3.6/site-packages (from requests->folium) (3.0.4)\n",
      "Requirement already satisfied: MarkupSafe>=0.23 in /opt/conda/envs/Python36/lib/python3.6/site-packages (from jinja2->folium) (1.1.0)\n"
     ]
    },
    {
     "data": {
      "text/plain": [
       "{'tags': ['remove_output']}"
      ]
     },
     "execution_count": 376,
     "metadata": {},
     "output_type": "execute_result"
    }
   ],
   "source": [
    "# Install missing libraries\n",
    "!pip install beautifulsoup4\n",
    "!pip install lxml\n",
    "!pip install html5lib\n",
    "!pip install requests\n",
    "!pip install geocoder\n",
    "!pip install folium"
   ]
  },
  {
   "cell_type": "code",
   "execution_count": 327,
   "metadata": {},
   "outputs": [
    {
     "name": "stdout",
     "output_type": "stream",
     "text": [
      "Libraries imported.\n"
     ]
    }
   ],
   "source": [
    "# Import libraries\n",
    "from bs4 import BeautifulSoup\n",
    "import pandas as pd\n",
    "import numpy as np\n",
    "import requests\n",
    "import geocoder\n",
    "from geopy.geocoders import Nominatim\n",
    "import folium # map rendering library\n",
    "from folium import plugins #Marker cluster object instiantiate\n",
    "from IPython.core.display import HTML # render of html output\n",
    "import json # library to handle JSON files\n",
    "from sklearn.cluster import KMeans # import k-means from clustering stage\n",
    "# Matplotlib and associated plotting modules\n",
    "import matplotlib.cm as cm\n",
    "import matplotlib.colors as colors\n",
    "\n",
    "\n",
    "print('Libraries imported.')"
   ]
  },
  {
   "cell_type": "markdown",
   "metadata": {},
   "source": [
    "## 2. Read source html file"
   ]
  },
  {
   "cell_type": "code",
   "execution_count": 328,
   "metadata": {},
   "outputs": [],
   "source": [
    "# Use 'lxml' parser to read the html input file\n",
    "source = requests.get('https://en.wikipedia.org/wiki/List_of_postal_codes_of_Canada:_M').text\n",
    "soup = BeautifulSoup(source, 'lxml')\n",
    "\n",
    "#print(soup.prettify())"
   ]
  },
  {
   "cell_type": "code",
   "execution_count": 329,
   "metadata": {},
   "outputs": [],
   "source": [
    "# Locate 'table' tag to help parse the information\n",
    "source_table = soup.find('table')\n",
    "#print(source_table.prettify())"
   ]
  },
  {
   "cell_type": "code",
   "execution_count": 330,
   "metadata": {
    "scrolled": true
   },
   "outputs": [],
   "source": [
    "# Identified tags\n",
    "#  <tr> : identifies the whole table\n",
    "#  <th> : identifies column headers\n",
    "#  <td> : identifies cell data\n",
    "\n",
    "# Read column and rows in sepaate list vars\n",
    "output_df_columns = []\n",
    "output_df_rows = []\n",
    "\n",
    "# Search for the first entry of <tr> where the main table is located\n",
    "# Store table data/headers\n",
    "# Remove '\\n' for every single row\n",
    "for source_row in source_table.find_all('tr'):\n",
    "    \n",
    "    try:\n",
    "        for columns in source_row.find_all('th'):\n",
    "            output_df_columns.append(columns.text)\n",
    "        \n",
    "        for rows in source_row.find_all('td'):\n",
    "            output_df_rows.append(rows.text)\n",
    "            \n",
    "    except Exception as e:\n",
    "        print(\"Something went wrong when reading the table\")\n",
    "        \n",
    "    finally:\n",
    "        output_df_columns = [w.replace('\\n', '') for w in output_df_columns]\n",
    "        output_df_rows = [w.replace('\\n', '') for w in output_df_rows]"
   ]
  },
  {
   "cell_type": "markdown",
   "metadata": {},
   "source": [
    "## 3. Generate Dataframe"
   ]
  },
  {
   "cell_type": "code",
   "execution_count": 331,
   "metadata": {
    "scrolled": true
   },
   "outputs": [],
   "source": [
    "# Generate columns_names as per table headers <th> tag's\n",
    "output_df = pd.DataFrame(columns=output_df_columns)\n",
    "num_columns = len(output_df_columns)\n",
    "num_fields = len(output_df_rows)\n",
    "# Append all the rows as per table data <td> tag's\n",
    "for num_row in np.arange(int(num_fields/num_columns)):\n",
    "    output_df.loc[num_row,:] = output_df_rows[num_row*num_columns:num_row*num_columns+num_columns]"
   ]
  },
  {
   "cell_type": "markdown",
   "metadata": {},
   "source": [
    "## 4. Data Wrangling"
   ]
  },
  {
   "cell_type": "markdown",
   "metadata": {},
   "source": [
    "### 1. Requirements Specifications\n",
    "1. Only process the cells that have an assigned borough. Ignore cells with a borough that is Not assigned\n",
    "2. The dataframe will consist of three columns: PostalCode, Borough, and Neighborhood\n",
    "3. More than one neighborhood can exist in one postal code area, combine into one row with the neighborhoods separated with a comma\n",
    "4. If a cell has a borough but a Not assigned neighborhood, then the neighborhood will be the same as the borough"
   ]
  },
  {
   "cell_type": "code",
   "execution_count": 332,
   "metadata": {},
   "outputs": [],
   "source": [
    "# Dropping rows without borough assigned\n",
    "output_df.drop(output_df[output_df.Borough == 'Not assigned'].index, inplace=True)\n",
    "# Rename columns names\n",
    "output_df.columns = ['PostalCode','Borough','Neighborhood']\n",
    "# Group by PO code and borough, joining neighborhoods\n",
    "output_df = output_df.groupby(['PostalCode','Borough'])['Neighborhood'].apply(','.join).reset_index()\n",
    "# assign borough name's to non assigned neighborhood rows\n",
    "output_df.loc[(output_df.Neighborhood == 'Not assigned'),'Neighborhood'] = output_df.Borough"
   ]
  },
  {
   "cell_type": "markdown",
   "metadata": {},
   "source": [
    "### 2. Check output dataframe"
   ]
  },
  {
   "cell_type": "code",
   "execution_count": 333,
   "metadata": {},
   "outputs": [
    {
     "data": {
      "text/plain": [
       "PostalCode      object\n",
       "Borough         object\n",
       "Neighborhood    object\n",
       "dtype: object"
      ]
     },
     "execution_count": 333,
     "metadata": {},
     "output_type": "execute_result"
    }
   ],
   "source": [
    "# Column Name types\n",
    "output_df.dtypes"
   ]
  },
  {
   "cell_type": "code",
   "execution_count": 334,
   "metadata": {},
   "outputs": [
    {
     "data": {
      "text/plain": [
       "(103, 3)"
      ]
     },
     "execution_count": 334,
     "metadata": {},
     "output_type": "execute_result"
    }
   ],
   "source": [
    "# Size of output dataframe\n",
    "output_df.shape"
   ]
  },
  {
   "cell_type": "code",
   "execution_count": 335,
   "metadata": {},
   "outputs": [
    {
     "data": {
      "text/html": [
       "<div>\n",
       "<style scoped>\n",
       "    .dataframe tbody tr th:only-of-type {\n",
       "        vertical-align: middle;\n",
       "    }\n",
       "\n",
       "    .dataframe tbody tr th {\n",
       "        vertical-align: top;\n",
       "    }\n",
       "\n",
       "    .dataframe thead th {\n",
       "        text-align: right;\n",
       "    }\n",
       "</style>\n",
       "<table border=\"1\" class=\"dataframe\">\n",
       "  <thead>\n",
       "    <tr style=\"text-align: right;\">\n",
       "      <th></th>\n",
       "      <th>PostalCode</th>\n",
       "      <th>Borough</th>\n",
       "      <th>Neighborhood</th>\n",
       "    </tr>\n",
       "  </thead>\n",
       "  <tbody>\n",
       "    <tr>\n",
       "      <th>0</th>\n",
       "      <td>M1B</td>\n",
       "      <td>Scarborough</td>\n",
       "      <td>Rouge,Malvern</td>\n",
       "    </tr>\n",
       "    <tr>\n",
       "      <th>1</th>\n",
       "      <td>M1C</td>\n",
       "      <td>Scarborough</td>\n",
       "      <td>Highland Creek,Rouge Hill,Port Union</td>\n",
       "    </tr>\n",
       "    <tr>\n",
       "      <th>2</th>\n",
       "      <td>M1E</td>\n",
       "      <td>Scarborough</td>\n",
       "      <td>Guildwood,Morningside,West Hill</td>\n",
       "    </tr>\n",
       "    <tr>\n",
       "      <th>3</th>\n",
       "      <td>M1G</td>\n",
       "      <td>Scarborough</td>\n",
       "      <td>Woburn</td>\n",
       "    </tr>\n",
       "    <tr>\n",
       "      <th>4</th>\n",
       "      <td>M1H</td>\n",
       "      <td>Scarborough</td>\n",
       "      <td>Cedarbrae</td>\n",
       "    </tr>\n",
       "  </tbody>\n",
       "</table>\n",
       "</div>"
      ],
      "text/plain": [
       "  PostalCode      Borough                          Neighborhood\n",
       "0        M1B  Scarborough                         Rouge,Malvern\n",
       "1        M1C  Scarborough  Highland Creek,Rouge Hill,Port Union\n",
       "2        M1E  Scarborough       Guildwood,Morningside,West Hill\n",
       "3        M1G  Scarborough                                Woburn\n",
       "4        M1H  Scarborough                             Cedarbrae"
      ]
     },
     "execution_count": 335,
     "metadata": {},
     "output_type": "execute_result"
    }
   ],
   "source": [
    "# Output dataframe\n",
    "output_df.head()"
   ]
  },
  {
   "cell_type": "markdown",
   "metadata": {},
   "source": [
    "## 5. Get latitude/longuitude data"
   ]
  },
  {
   "cell_type": "markdown",
   "metadata": {},
   "source": [
    "### 1. Requirements specifications\n",
    "Get the latitude and the longitude coordinates of each neighborhood"
   ]
  },
  {
   "cell_type": "code",
   "execution_count": 336,
   "metadata": {},
   "outputs": [
    {
     "name": "stdout",
     "output_type": "stream",
     "text": [
      "Data downloaded!\n"
     ]
    }
   ],
   "source": [
    "# Using the provided csv with the necessary information of latitude/longuitude\n",
    "!wget -q -O 'toronto_data.csv' http://cocl.us/Geospatial_data\n",
    "print('Data downloaded!')"
   ]
  },
  {
   "cell_type": "markdown",
   "metadata": {},
   "source": [
    "### 2. Read csv file\n",
    "Convert data to dataframe"
   ]
  },
  {
   "cell_type": "code",
   "execution_count": 337,
   "metadata": {},
   "outputs": [
    {
     "data": {
      "text/html": [
       "<div>\n",
       "<style scoped>\n",
       "    .dataframe tbody tr th:only-of-type {\n",
       "        vertical-align: middle;\n",
       "    }\n",
       "\n",
       "    .dataframe tbody tr th {\n",
       "        vertical-align: top;\n",
       "    }\n",
       "\n",
       "    .dataframe thead th {\n",
       "        text-align: right;\n",
       "    }\n",
       "</style>\n",
       "<table border=\"1\" class=\"dataframe\">\n",
       "  <thead>\n",
       "    <tr style=\"text-align: right;\">\n",
       "      <th></th>\n",
       "      <th>Postal Code</th>\n",
       "      <th>Latitude</th>\n",
       "      <th>Longitude</th>\n",
       "    </tr>\n",
       "  </thead>\n",
       "  <tbody>\n",
       "    <tr>\n",
       "      <th>0</th>\n",
       "      <td>M1B</td>\n",
       "      <td>43.806686</td>\n",
       "      <td>-79.194353</td>\n",
       "    </tr>\n",
       "    <tr>\n",
       "      <th>1</th>\n",
       "      <td>M1C</td>\n",
       "      <td>43.784535</td>\n",
       "      <td>-79.160497</td>\n",
       "    </tr>\n",
       "    <tr>\n",
       "      <th>2</th>\n",
       "      <td>M1E</td>\n",
       "      <td>43.763573</td>\n",
       "      <td>-79.188711</td>\n",
       "    </tr>\n",
       "    <tr>\n",
       "      <th>3</th>\n",
       "      <td>M1G</td>\n",
       "      <td>43.770992</td>\n",
       "      <td>-79.216917</td>\n",
       "    </tr>\n",
       "    <tr>\n",
       "      <th>4</th>\n",
       "      <td>M1H</td>\n",
       "      <td>43.773136</td>\n",
       "      <td>-79.239476</td>\n",
       "    </tr>\n",
       "  </tbody>\n",
       "</table>\n",
       "</div>"
      ],
      "text/plain": [
       "  Postal Code   Latitude  Longitude\n",
       "0         M1B  43.806686 -79.194353\n",
       "1         M1C  43.784535 -79.160497\n",
       "2         M1E  43.763573 -79.188711\n",
       "3         M1G  43.770992 -79.216917\n",
       "4         M1H  43.773136 -79.239476"
      ]
     },
     "execution_count": 337,
     "metadata": {},
     "output_type": "execute_result"
    }
   ],
   "source": [
    "toronto_geo_df = pd.read_csv('toronto_data.csv')\n",
    "toronto_geo_df.head()"
   ]
  },
  {
   "cell_type": "markdown",
   "metadata": {},
   "source": [
    "### 3. Check data integrity"
   ]
  },
  {
   "cell_type": "code",
   "execution_count": 338,
   "metadata": {},
   "outputs": [
    {
     "data": {
      "text/plain": [
       "True"
      ]
     },
     "execution_count": 338,
     "metadata": {},
     "output_type": "execute_result"
    }
   ],
   "source": [
    "# Check if data from both tables are sorted in the same order\n",
    "output_df.loc[:,'PostalCode'].equals(toronto_geo_df.loc[:,'Postal Code'])"
   ]
  },
  {
   "cell_type": "code",
   "execution_count": 339,
   "metadata": {},
   "outputs": [],
   "source": [
    "# It's safe to proceed to concat both dataframes\n",
    "output_df = pd.concat([output_df, toronto_geo_df.iloc[:,1:].reindex(output_df.index)], axis=1)"
   ]
  },
  {
   "cell_type": "code",
   "execution_count": 340,
   "metadata": {},
   "outputs": [
    {
     "data": {
      "text/html": [
       "<div>\n",
       "<style scoped>\n",
       "    .dataframe tbody tr th:only-of-type {\n",
       "        vertical-align: middle;\n",
       "    }\n",
       "\n",
       "    .dataframe tbody tr th {\n",
       "        vertical-align: top;\n",
       "    }\n",
       "\n",
       "    .dataframe thead th {\n",
       "        text-align: right;\n",
       "    }\n",
       "</style>\n",
       "<table border=\"1\" class=\"dataframe\">\n",
       "  <thead>\n",
       "    <tr style=\"text-align: right;\">\n",
       "      <th></th>\n",
       "      <th>PostalCode</th>\n",
       "      <th>Borough</th>\n",
       "      <th>Neighborhood</th>\n",
       "      <th>Latitude</th>\n",
       "      <th>Longitude</th>\n",
       "    </tr>\n",
       "  </thead>\n",
       "  <tbody>\n",
       "    <tr>\n",
       "      <th>0</th>\n",
       "      <td>M1B</td>\n",
       "      <td>Scarborough</td>\n",
       "      <td>Rouge,Malvern</td>\n",
       "      <td>43.806686</td>\n",
       "      <td>-79.194353</td>\n",
       "    </tr>\n",
       "    <tr>\n",
       "      <th>1</th>\n",
       "      <td>M1C</td>\n",
       "      <td>Scarborough</td>\n",
       "      <td>Highland Creek,Rouge Hill,Port Union</td>\n",
       "      <td>43.784535</td>\n",
       "      <td>-79.160497</td>\n",
       "    </tr>\n",
       "    <tr>\n",
       "      <th>2</th>\n",
       "      <td>M1E</td>\n",
       "      <td>Scarborough</td>\n",
       "      <td>Guildwood,Morningside,West Hill</td>\n",
       "      <td>43.763573</td>\n",
       "      <td>-79.188711</td>\n",
       "    </tr>\n",
       "    <tr>\n",
       "      <th>3</th>\n",
       "      <td>M1G</td>\n",
       "      <td>Scarborough</td>\n",
       "      <td>Woburn</td>\n",
       "      <td>43.770992</td>\n",
       "      <td>-79.216917</td>\n",
       "    </tr>\n",
       "    <tr>\n",
       "      <th>4</th>\n",
       "      <td>M1H</td>\n",
       "      <td>Scarborough</td>\n",
       "      <td>Cedarbrae</td>\n",
       "      <td>43.773136</td>\n",
       "      <td>-79.239476</td>\n",
       "    </tr>\n",
       "  </tbody>\n",
       "</table>\n",
       "</div>"
      ],
      "text/plain": [
       "  PostalCode      Borough                          Neighborhood   Latitude  \\\n",
       "0        M1B  Scarborough                         Rouge,Malvern  43.806686   \n",
       "1        M1C  Scarborough  Highland Creek,Rouge Hill,Port Union  43.784535   \n",
       "2        M1E  Scarborough       Guildwood,Morningside,West Hill  43.763573   \n",
       "3        M1G  Scarborough                                Woburn  43.770992   \n",
       "4        M1H  Scarborough                             Cedarbrae  43.773136   \n",
       "\n",
       "   Longitude  \n",
       "0 -79.194353  \n",
       "1 -79.160497  \n",
       "2 -79.188711  \n",
       "3 -79.216917  \n",
       "4 -79.239476  "
      ]
     },
     "execution_count": 340,
     "metadata": {},
     "output_type": "execute_result"
    }
   ],
   "source": [
    "# Final dataframe inforamtion\n",
    "output_df.head()"
   ]
  },
  {
   "cell_type": "code",
   "execution_count": 341,
   "metadata": {},
   "outputs": [
    {
     "name": "stdout",
     "output_type": "stream",
     "text": [
      "The dataframe has 11 boroughs: ['Scarborough' 'North York' 'East York' 'East Toronto' 'Central Toronto'\n",
      " 'Downtown Toronto' 'York' 'West Toronto' 'Mississauga' 'Etobicoke'\n",
      " \"Queen's Park\"].\n"
     ]
    }
   ],
   "source": [
    "print('The dataframe has {} boroughs: {}.'.format(len(output_df['Borough'].unique()), output_df.Borough.unique()))\n"
   ]
  },
  {
   "cell_type": "markdown",
   "metadata": {},
   "source": [
    "## 6. Visualization Map"
   ]
  },
  {
   "cell_type": "markdown",
   "metadata": {},
   "source": [
    "### 1. Gather data"
   ]
  },
  {
   "cell_type": "code",
   "execution_count": 342,
   "metadata": {},
   "outputs": [
    {
     "name": "stdout",
     "output_type": "stream",
     "text": [
      "The geograpical coordinate of Toronto are 43.653963, -79.387207.\n"
     ]
    }
   ],
   "source": [
    "# Proceed to fill nominatim inputs\n",
    "address = 'Toronto, ON'\n",
    "# user-agent: to_explorer\n",
    "geolocator = Nominatim(user_agent=\"to_explorer\")\n",
    "location = geolocator.geocode(address)\n",
    "latitude = location.latitude\n",
    "longitude = location.longitude\n",
    "\n",
    "print('The geograpical coordinate of Toronto are {}, {}.'.format(latitude, longitude))"
   ]
  },
  {
   "cell_type": "markdown",
   "metadata": {},
   "source": [
    "### 2. Borough denisty map\n",
    "MarkerCluster are a preferred solution over CircleMarker for simplicity\n"
   ]
  },
  {
   "cell_type": "code",
   "execution_count": 345,
   "metadata": {},
   "outputs": [
    {
     "data": {
      "text/html": [
       "<div style=\"width:100%;\"><div style=\"position:relative;width:100%;height:0;padding-bottom:60%;\"><iframe src=\"about:blank\" style=\"position:absolute;width:100%;height:100%;left:0;top:0;border:none !important;\" data-html=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 onload=\"this.contentDocument.open();this.contentDocument.write(atob(this.getAttribute('data-html')));this.contentDocument.close();\" allowfullscreen webkitallowfullscreen mozallowfullscreen></iframe></div></div>"
      ],
      "text/plain": [
       "<IPython.core.display.HTML object>"
      ]
     },
     "execution_count": 345,
     "metadata": {},
     "output_type": "execute_result"
    }
   ],
   "source": [
    "\n",
    "# create map of Toronto using latitude and longitude values\n",
    "city_map = folium.Map(location=[latitude, longitude], zoom_start=10)\n",
    "\n",
    "# instantiate a mark cluster object for the incidents in the dataframe\n",
    "boroughs = plugins.MarkerCluster().add_to(city_map)\n",
    "\n",
    "# loop through the dataframe and add each data point to the mark cluster\n",
    "for lat, lng, borough, pocode in zip(output_df['Latitude'], output_df['Longitude'], output_df['Borough'], output_df['PostalCode']):\n",
    "    label = '{}-{}'.format(borough, pocode)\n",
    "    label = folium.Popup(label, parse_html=True)\n",
    "    folium.Marker(\n",
    "        location=[lat, lng],\n",
    "        icon=None,\n",
    "        popup=label,\n",
    "    ).add_to(boroughs)\n",
    "# render as html\n",
    "HTML(city_map._repr_html_())"
   ]
  },
  {
   "cell_type": "markdown",
   "metadata": {},
   "source": [
    "## 7. Exploring Boroughs in Toronto"
   ]
  },
  {
   "cell_type": "markdown",
   "metadata": {},
   "source": [
    "### 1. Foursquare service credentials"
   ]
  },
  {
   "cell_type": "code",
   "execution_count": 369,
   "metadata": {},
   "outputs": [
    {
     "name": "stdout",
     "output_type": "stream",
     "text": [
      "Your credentails:\n",
      "CLIENT_ID: {my_id}\n",
      "CLIENT_SECRET:{my_key}\n"
     ]
    }
   ],
   "source": [
    "# Claim access service credentials as per user/pwd\n",
    "CLIENT_ID = '{my_id}' # your Foursquare ID\n",
    "CLIENT_SECRET = '{my_key}' # your Foursquare Secret\n",
    "VERSION = '20180605' # Foursquare API version\n",
    "\n",
    "print('Your credentails:')\n",
    "print('CLIENT_ID: ' + CLIENT_ID)\n",
    "print('CLIENT_SECRET:' + CLIENT_SECRET)"
   ]
  },
  {
   "cell_type": "markdown",
   "metadata": {},
   "source": [
    "### 2. Explore nearby venues \n",
    "Explore and cluster the neighborhoods in Toronto. You can decide to work with only boroughs that contain the word Toronto and then replicate the same analysis we did to the New York City data. It is up to you."
   ]
  },
  {
   "cell_type": "code",
   "execution_count": 347,
   "metadata": {},
   "outputs": [],
   "source": [
    "# Use prevoius function to get venue data from Foursquare\n",
    "def getNearbyVenues(names, latitudes, longitudes, radius=1000, limit=100):\n",
    "    \n",
    "    venues_list=[]\n",
    "    for name, lat, lng in zip(names, latitudes, longitudes):\n",
    "        #print(name)\n",
    "            \n",
    "        # create the API request URL\n",
    "        url = 'https://api.foursquare.com/v2/venues/explore?&client_id={}&client_secret={}&v={}&ll={},{}&radius={}&limit={}'.format(\n",
    "            CLIENT_ID, \n",
    "            CLIENT_SECRET, \n",
    "            VERSION, \n",
    "            lat, \n",
    "            lng, \n",
    "            radius, \n",
    "            limit)\n",
    "            \n",
    "        # make the GET request\n",
    "        results = requests.get(url).json()[\"response\"]['groups'][0]['items']\n",
    "        \n",
    "        with open('city_venues.json', 'a+') as f:\n",
    "            json.dump(results, f)\n",
    "        \n",
    "        # return only relevant information for each nearby venue\n",
    "        venues_list.append([(\n",
    "            name, \n",
    "            lat, \n",
    "            lng, \n",
    "            v['venue']['name'], \n",
    "            v['venue']['location']['lat'], \n",
    "            v['venue']['location']['lng'],  \n",
    "            v['venue']['categories'][0]['name']) for v in results])\n",
    "\n",
    "    nearby_venues = pd.DataFrame([item for venue_list in venues_list for item in venue_list])\n",
    "    nearby_venues.columns = ['PostalCode', \n",
    "                  'PostalCode Latitude', \n",
    "                  'PostalCode Longitude', \n",
    "                  'Venue', \n",
    "                  'Venue Latitude', \n",
    "                  'Venue Longitude', \n",
    "                  'Venue Category']\n",
    "    \n",
    "    return(nearby_venues)"
   ]
  },
  {
   "cell_type": "code",
   "execution_count": 348,
   "metadata": {
    "scrolled": true
   },
   "outputs": [],
   "source": [
    "# call function to retrieve desired data about venues in Toronto\n",
    "toronto_venues = getNearbyVenues(names=output_df['PostalCode'],\n",
    "                                   latitudes=output_df['Latitude'],\n",
    "                                   longitudes=output_df['Longitude']\n",
    "                                  )"
   ]
  },
  {
   "cell_type": "code",
   "execution_count": 349,
   "metadata": {},
   "outputs": [
    {
     "name": "stdout",
     "output_type": "stream",
     "text": [
      "Number of venues in Toronto (4933, 7)\n"
     ]
    },
    {
     "data": {
      "text/html": [
       "<div>\n",
       "<style scoped>\n",
       "    .dataframe tbody tr th:only-of-type {\n",
       "        vertical-align: middle;\n",
       "    }\n",
       "\n",
       "    .dataframe tbody tr th {\n",
       "        vertical-align: top;\n",
       "    }\n",
       "\n",
       "    .dataframe thead th {\n",
       "        text-align: right;\n",
       "    }\n",
       "</style>\n",
       "<table border=\"1\" class=\"dataframe\">\n",
       "  <thead>\n",
       "    <tr style=\"text-align: right;\">\n",
       "      <th></th>\n",
       "      <th>PostalCode</th>\n",
       "      <th>PostalCode Latitude</th>\n",
       "      <th>PostalCode Longitude</th>\n",
       "      <th>Venue</th>\n",
       "      <th>Venue Latitude</th>\n",
       "      <th>Venue Longitude</th>\n",
       "      <th>Venue Category</th>\n",
       "    </tr>\n",
       "  </thead>\n",
       "  <tbody>\n",
       "    <tr>\n",
       "      <th>0</th>\n",
       "      <td>M1B</td>\n",
       "      <td>43.806686</td>\n",
       "      <td>-79.194353</td>\n",
       "      <td>Wendy's</td>\n",
       "      <td>43.802008</td>\n",
       "      <td>-79.198080</td>\n",
       "      <td>Fast Food Restaurant</td>\n",
       "    </tr>\n",
       "    <tr>\n",
       "      <th>1</th>\n",
       "      <td>M1B</td>\n",
       "      <td>43.806686</td>\n",
       "      <td>-79.194353</td>\n",
       "      <td>Wendy's</td>\n",
       "      <td>43.807448</td>\n",
       "      <td>-79.199056</td>\n",
       "      <td>Fast Food Restaurant</td>\n",
       "    </tr>\n",
       "    <tr>\n",
       "      <th>2</th>\n",
       "      <td>M1B</td>\n",
       "      <td>43.806686</td>\n",
       "      <td>-79.194353</td>\n",
       "      <td>Staples Morningside</td>\n",
       "      <td>43.800285</td>\n",
       "      <td>-79.196607</td>\n",
       "      <td>Paper / Office Supplies Store</td>\n",
       "    </tr>\n",
       "    <tr>\n",
       "      <th>3</th>\n",
       "      <td>M1B</td>\n",
       "      <td>43.806686</td>\n",
       "      <td>-79.194353</td>\n",
       "      <td>Caribbean Wave</td>\n",
       "      <td>43.798558</td>\n",
       "      <td>-79.195777</td>\n",
       "      <td>Caribbean Restaurant</td>\n",
       "    </tr>\n",
       "    <tr>\n",
       "      <th>4</th>\n",
       "      <td>M1B</td>\n",
       "      <td>43.806686</td>\n",
       "      <td>-79.194353</td>\n",
       "      <td>Harvey's</td>\n",
       "      <td>43.800106</td>\n",
       "      <td>-79.198258</td>\n",
       "      <td>Fast Food Restaurant</td>\n",
       "    </tr>\n",
       "  </tbody>\n",
       "</table>\n",
       "</div>"
      ],
      "text/plain": [
       "  PostalCode  PostalCode Latitude  PostalCode Longitude                Venue  \\\n",
       "0        M1B            43.806686            -79.194353              Wendy's   \n",
       "1        M1B            43.806686            -79.194353              Wendy's   \n",
       "2        M1B            43.806686            -79.194353  Staples Morningside   \n",
       "3        M1B            43.806686            -79.194353       Caribbean Wave   \n",
       "4        M1B            43.806686            -79.194353             Harvey's   \n",
       "\n",
       "   Venue Latitude  Venue Longitude                 Venue Category  \n",
       "0       43.802008       -79.198080           Fast Food Restaurant  \n",
       "1       43.807448       -79.199056           Fast Food Restaurant  \n",
       "2       43.800285       -79.196607  Paper / Office Supplies Store  \n",
       "3       43.798558       -79.195777           Caribbean Restaurant  \n",
       "4       43.800106       -79.198258           Fast Food Restaurant  "
      ]
     },
     "execution_count": 349,
     "metadata": {},
     "output_type": "execute_result"
    }
   ],
   "source": [
    "# Retrieved venues data\n",
    "print('Number of venues in Toronto {}'.format(toronto_venues.shape))\n",
    "toronto_venues.head()"
   ]
  },
  {
   "cell_type": "code",
   "execution_count": 370,
   "metadata": {},
   "outputs": [
    {
     "data": {
      "text/html": [
       "<div>\n",
       "<style scoped>\n",
       "    .dataframe tbody tr th:only-of-type {\n",
       "        vertical-align: middle;\n",
       "    }\n",
       "\n",
       "    .dataframe tbody tr th {\n",
       "        vertical-align: top;\n",
       "    }\n",
       "\n",
       "    .dataframe thead th {\n",
       "        text-align: right;\n",
       "    }\n",
       "</style>\n",
       "<table border=\"1\" class=\"dataframe\">\n",
       "  <thead>\n",
       "    <tr style=\"text-align: right;\">\n",
       "      <th></th>\n",
       "      <th>PostalCode Latitude</th>\n",
       "      <th>PostalCode Longitude</th>\n",
       "      <th>Venue</th>\n",
       "      <th>Venue Latitude</th>\n",
       "      <th>Venue Longitude</th>\n",
       "      <th>Venue Category</th>\n",
       "    </tr>\n",
       "    <tr>\n",
       "      <th>PostalCode</th>\n",
       "      <th></th>\n",
       "      <th></th>\n",
       "      <th></th>\n",
       "      <th></th>\n",
       "      <th></th>\n",
       "      <th></th>\n",
       "    </tr>\n",
       "  </thead>\n",
       "  <tbody>\n",
       "    <tr>\n",
       "      <th>M1B</th>\n",
       "      <td>16</td>\n",
       "      <td>16</td>\n",
       "      <td>16</td>\n",
       "      <td>16</td>\n",
       "      <td>16</td>\n",
       "      <td>16</td>\n",
       "    </tr>\n",
       "    <tr>\n",
       "      <th>M1C</th>\n",
       "      <td>5</td>\n",
       "      <td>5</td>\n",
       "      <td>5</td>\n",
       "      <td>5</td>\n",
       "      <td>5</td>\n",
       "      <td>5</td>\n",
       "    </tr>\n",
       "    <tr>\n",
       "      <th>M1E</th>\n",
       "      <td>23</td>\n",
       "      <td>23</td>\n",
       "      <td>23</td>\n",
       "      <td>23</td>\n",
       "      <td>23</td>\n",
       "      <td>23</td>\n",
       "    </tr>\n",
       "    <tr>\n",
       "      <th>M1G</th>\n",
       "      <td>10</td>\n",
       "      <td>10</td>\n",
       "      <td>10</td>\n",
       "      <td>10</td>\n",
       "      <td>10</td>\n",
       "      <td>10</td>\n",
       "    </tr>\n",
       "    <tr>\n",
       "      <th>M1H</th>\n",
       "      <td>30</td>\n",
       "      <td>30</td>\n",
       "      <td>30</td>\n",
       "      <td>30</td>\n",
       "      <td>30</td>\n",
       "      <td>30</td>\n",
       "    </tr>\n",
       "  </tbody>\n",
       "</table>\n",
       "</div>"
      ],
      "text/plain": [
       "            PostalCode Latitude  PostalCode Longitude  Venue  Venue Latitude  \\\n",
       "PostalCode                                                                     \n",
       "M1B                          16                    16     16              16   \n",
       "M1C                           5                     5      5               5   \n",
       "M1E                          23                    23     23              23   \n",
       "M1G                          10                    10     10              10   \n",
       "M1H                          30                    30     30              30   \n",
       "\n",
       "            Venue Longitude  Venue Category  \n",
       "PostalCode                                   \n",
       "M1B                      16              16  \n",
       "M1C                       5               5  \n",
       "M1E                      23              23  \n",
       "M1G                      10              10  \n",
       "M1H                      30              30  "
      ]
     },
     "execution_count": 370,
     "metadata": {},
     "output_type": "execute_result"
    }
   ],
   "source": [
    "# Let's check how many venues per POstal Code\n",
    "toronto_venues.groupby(['PostalCode']).count().head()"
   ]
  },
  {
   "cell_type": "code",
   "execution_count": 351,
   "metadata": {},
   "outputs": [
    {
     "name": "stdout",
     "output_type": "stream",
     "text": [
      "There are 328 uniques categories.\n"
     ]
    }
   ],
   "source": [
    "print('There are {} uniques categories.'.format(len(toronto_venues['Venue Category'].unique())))"
   ]
  },
  {
   "cell_type": "markdown",
   "metadata": {},
   "source": [
    "### 3. Analyze each PO Code\n",
    "Calculate which venues are mos common as per PO, later on will be necessary for clustering"
   ]
  },
  {
   "cell_type": "code",
   "execution_count": 352,
   "metadata": {},
   "outputs": [
    {
     "data": {
      "text/html": [
       "<div>\n",
       "<style scoped>\n",
       "    .dataframe tbody tr th:only-of-type {\n",
       "        vertical-align: middle;\n",
       "    }\n",
       "\n",
       "    .dataframe tbody tr th {\n",
       "        vertical-align: top;\n",
       "    }\n",
       "\n",
       "    .dataframe thead th {\n",
       "        text-align: right;\n",
       "    }\n",
       "</style>\n",
       "<table border=\"1\" class=\"dataframe\">\n",
       "  <thead>\n",
       "    <tr style=\"text-align: right;\">\n",
       "      <th></th>\n",
       "      <th>PostalCode</th>\n",
       "      <th>Accessories Store</th>\n",
       "      <th>Afghan Restaurant</th>\n",
       "      <th>Airport</th>\n",
       "      <th>Airport Lounge</th>\n",
       "      <th>American Restaurant</th>\n",
       "      <th>Amphitheater</th>\n",
       "      <th>Animal Shelter</th>\n",
       "      <th>Antique Shop</th>\n",
       "      <th>Aquarium</th>\n",
       "      <th>...</th>\n",
       "      <th>Video Store</th>\n",
       "      <th>Vietnamese Restaurant</th>\n",
       "      <th>Warehouse Store</th>\n",
       "      <th>Whisky Bar</th>\n",
       "      <th>Wine Bar</th>\n",
       "      <th>Wine Shop</th>\n",
       "      <th>Wings Joint</th>\n",
       "      <th>Women's Store</th>\n",
       "      <th>Yoga Studio</th>\n",
       "      <th>Zoo</th>\n",
       "    </tr>\n",
       "  </thead>\n",
       "  <tbody>\n",
       "    <tr>\n",
       "      <th>0</th>\n",
       "      <td>M1B</td>\n",
       "      <td>0</td>\n",
       "      <td>0</td>\n",
       "      <td>0</td>\n",
       "      <td>0</td>\n",
       "      <td>0</td>\n",
       "      <td>0</td>\n",
       "      <td>0</td>\n",
       "      <td>0</td>\n",
       "      <td>0</td>\n",
       "      <td>...</td>\n",
       "      <td>0</td>\n",
       "      <td>0</td>\n",
       "      <td>0</td>\n",
       "      <td>0</td>\n",
       "      <td>0</td>\n",
       "      <td>0</td>\n",
       "      <td>0</td>\n",
       "      <td>0</td>\n",
       "      <td>0</td>\n",
       "      <td>0</td>\n",
       "    </tr>\n",
       "    <tr>\n",
       "      <th>1</th>\n",
       "      <td>M1B</td>\n",
       "      <td>0</td>\n",
       "      <td>0</td>\n",
       "      <td>0</td>\n",
       "      <td>0</td>\n",
       "      <td>0</td>\n",
       "      <td>0</td>\n",
       "      <td>0</td>\n",
       "      <td>0</td>\n",
       "      <td>0</td>\n",
       "      <td>...</td>\n",
       "      <td>0</td>\n",
       "      <td>0</td>\n",
       "      <td>0</td>\n",
       "      <td>0</td>\n",
       "      <td>0</td>\n",
       "      <td>0</td>\n",
       "      <td>0</td>\n",
       "      <td>0</td>\n",
       "      <td>0</td>\n",
       "      <td>0</td>\n",
       "    </tr>\n",
       "    <tr>\n",
       "      <th>2</th>\n",
       "      <td>M1B</td>\n",
       "      <td>0</td>\n",
       "      <td>0</td>\n",
       "      <td>0</td>\n",
       "      <td>0</td>\n",
       "      <td>0</td>\n",
       "      <td>0</td>\n",
       "      <td>0</td>\n",
       "      <td>0</td>\n",
       "      <td>0</td>\n",
       "      <td>...</td>\n",
       "      <td>0</td>\n",
       "      <td>0</td>\n",
       "      <td>0</td>\n",
       "      <td>0</td>\n",
       "      <td>0</td>\n",
       "      <td>0</td>\n",
       "      <td>0</td>\n",
       "      <td>0</td>\n",
       "      <td>0</td>\n",
       "      <td>0</td>\n",
       "    </tr>\n",
       "    <tr>\n",
       "      <th>3</th>\n",
       "      <td>M1B</td>\n",
       "      <td>0</td>\n",
       "      <td>0</td>\n",
       "      <td>0</td>\n",
       "      <td>0</td>\n",
       "      <td>0</td>\n",
       "      <td>0</td>\n",
       "      <td>0</td>\n",
       "      <td>0</td>\n",
       "      <td>0</td>\n",
       "      <td>...</td>\n",
       "      <td>0</td>\n",
       "      <td>0</td>\n",
       "      <td>0</td>\n",
       "      <td>0</td>\n",
       "      <td>0</td>\n",
       "      <td>0</td>\n",
       "      <td>0</td>\n",
       "      <td>0</td>\n",
       "      <td>0</td>\n",
       "      <td>0</td>\n",
       "    </tr>\n",
       "    <tr>\n",
       "      <th>4</th>\n",
       "      <td>M1B</td>\n",
       "      <td>0</td>\n",
       "      <td>0</td>\n",
       "      <td>0</td>\n",
       "      <td>0</td>\n",
       "      <td>0</td>\n",
       "      <td>0</td>\n",
       "      <td>0</td>\n",
       "      <td>0</td>\n",
       "      <td>0</td>\n",
       "      <td>...</td>\n",
       "      <td>0</td>\n",
       "      <td>0</td>\n",
       "      <td>0</td>\n",
       "      <td>0</td>\n",
       "      <td>0</td>\n",
       "      <td>0</td>\n",
       "      <td>0</td>\n",
       "      <td>0</td>\n",
       "      <td>0</td>\n",
       "      <td>0</td>\n",
       "    </tr>\n",
       "  </tbody>\n",
       "</table>\n",
       "<p>5 rows × 329 columns</p>\n",
       "</div>"
      ],
      "text/plain": [
       "  PostalCode  Accessories Store  Afghan Restaurant  Airport  Airport Lounge  \\\n",
       "0        M1B                  0                  0        0               0   \n",
       "1        M1B                  0                  0        0               0   \n",
       "2        M1B                  0                  0        0               0   \n",
       "3        M1B                  0                  0        0               0   \n",
       "4        M1B                  0                  0        0               0   \n",
       "\n",
       "   American Restaurant  Amphitheater  Animal Shelter  Antique Shop  Aquarium  \\\n",
       "0                    0             0               0             0         0   \n",
       "1                    0             0               0             0         0   \n",
       "2                    0             0               0             0         0   \n",
       "3                    0             0               0             0         0   \n",
       "4                    0             0               0             0         0   \n",
       "\n",
       "   ...  Video Store  Vietnamese Restaurant  Warehouse Store  Whisky Bar  \\\n",
       "0  ...            0                      0                0           0   \n",
       "1  ...            0                      0                0           0   \n",
       "2  ...            0                      0                0           0   \n",
       "3  ...            0                      0                0           0   \n",
       "4  ...            0                      0                0           0   \n",
       "\n",
       "   Wine Bar  Wine Shop  Wings Joint  Women's Store  Yoga Studio  Zoo  \n",
       "0         0          0            0              0            0    0  \n",
       "1         0          0            0              0            0    0  \n",
       "2         0          0            0              0            0    0  \n",
       "3         0          0            0              0            0    0  \n",
       "4         0          0            0              0            0    0  \n",
       "\n",
       "[5 rows x 329 columns]"
      ]
     },
     "execution_count": 352,
     "metadata": {},
     "output_type": "execute_result"
    }
   ],
   "source": [
    "# one hot encoding\n",
    "toronto_onehot = pd.get_dummies(toronto_venues[['Venue Category']], prefix=\"\", prefix_sep=\"\")\n",
    "\n",
    "# add neighborhood column back to dataframe\n",
    "toronto_onehot['PostalCode'] = toronto_venues['PostalCode'] \n",
    "\n",
    "# move neighborhood column to the first column\n",
    "fixed_columns = [toronto_onehot.columns[-1]] + list(toronto_onehot.columns[:-1])\n",
    "toronto_onehot = toronto_onehot[fixed_columns]\n",
    "\n",
    "toronto_onehot.head()"
   ]
  },
  {
   "cell_type": "code",
   "execution_count": 353,
   "metadata": {},
   "outputs": [
    {
     "data": {
      "text/html": [
       "<div>\n",
       "<style scoped>\n",
       "    .dataframe tbody tr th:only-of-type {\n",
       "        vertical-align: middle;\n",
       "    }\n",
       "\n",
       "    .dataframe tbody tr th {\n",
       "        vertical-align: top;\n",
       "    }\n",
       "\n",
       "    .dataframe thead th {\n",
       "        text-align: right;\n",
       "    }\n",
       "</style>\n",
       "<table border=\"1\" class=\"dataframe\">\n",
       "  <thead>\n",
       "    <tr style=\"text-align: right;\">\n",
       "      <th></th>\n",
       "      <th>PostalCode</th>\n",
       "      <th>Accessories Store</th>\n",
       "      <th>Afghan Restaurant</th>\n",
       "      <th>Airport</th>\n",
       "      <th>Airport Lounge</th>\n",
       "      <th>American Restaurant</th>\n",
       "      <th>Amphitheater</th>\n",
       "      <th>Animal Shelter</th>\n",
       "      <th>Antique Shop</th>\n",
       "      <th>Aquarium</th>\n",
       "      <th>...</th>\n",
       "      <th>Video Store</th>\n",
       "      <th>Vietnamese Restaurant</th>\n",
       "      <th>Warehouse Store</th>\n",
       "      <th>Whisky Bar</th>\n",
       "      <th>Wine Bar</th>\n",
       "      <th>Wine Shop</th>\n",
       "      <th>Wings Joint</th>\n",
       "      <th>Women's Store</th>\n",
       "      <th>Yoga Studio</th>\n",
       "      <th>Zoo</th>\n",
       "    </tr>\n",
       "  </thead>\n",
       "  <tbody>\n",
       "    <tr>\n",
       "      <th>0</th>\n",
       "      <td>M1B</td>\n",
       "      <td>0.0</td>\n",
       "      <td>0.0</td>\n",
       "      <td>0.0</td>\n",
       "      <td>0.0</td>\n",
       "      <td>0.0</td>\n",
       "      <td>0.0</td>\n",
       "      <td>0.0</td>\n",
       "      <td>0.0</td>\n",
       "      <td>0.0</td>\n",
       "      <td>...</td>\n",
       "      <td>0.0</td>\n",
       "      <td>0.0</td>\n",
       "      <td>0.0</td>\n",
       "      <td>0.0</td>\n",
       "      <td>0.0</td>\n",
       "      <td>0.0</td>\n",
       "      <td>0.000000</td>\n",
       "      <td>0.0</td>\n",
       "      <td>0.000000</td>\n",
       "      <td>0.0</td>\n",
       "    </tr>\n",
       "    <tr>\n",
       "      <th>1</th>\n",
       "      <td>M1C</td>\n",
       "      <td>0.0</td>\n",
       "      <td>0.0</td>\n",
       "      <td>0.0</td>\n",
       "      <td>0.0</td>\n",
       "      <td>0.0</td>\n",
       "      <td>0.0</td>\n",
       "      <td>0.0</td>\n",
       "      <td>0.0</td>\n",
       "      <td>0.0</td>\n",
       "      <td>...</td>\n",
       "      <td>0.0</td>\n",
       "      <td>0.0</td>\n",
       "      <td>0.0</td>\n",
       "      <td>0.0</td>\n",
       "      <td>0.0</td>\n",
       "      <td>0.0</td>\n",
       "      <td>0.000000</td>\n",
       "      <td>0.0</td>\n",
       "      <td>0.000000</td>\n",
       "      <td>0.0</td>\n",
       "    </tr>\n",
       "    <tr>\n",
       "      <th>2</th>\n",
       "      <td>M1E</td>\n",
       "      <td>0.0</td>\n",
       "      <td>0.0</td>\n",
       "      <td>0.0</td>\n",
       "      <td>0.0</td>\n",
       "      <td>0.0</td>\n",
       "      <td>0.0</td>\n",
       "      <td>0.0</td>\n",
       "      <td>0.0</td>\n",
       "      <td>0.0</td>\n",
       "      <td>...</td>\n",
       "      <td>0.0</td>\n",
       "      <td>0.0</td>\n",
       "      <td>0.0</td>\n",
       "      <td>0.0</td>\n",
       "      <td>0.0</td>\n",
       "      <td>0.0</td>\n",
       "      <td>0.000000</td>\n",
       "      <td>0.0</td>\n",
       "      <td>0.000000</td>\n",
       "      <td>0.0</td>\n",
       "    </tr>\n",
       "    <tr>\n",
       "      <th>3</th>\n",
       "      <td>M1G</td>\n",
       "      <td>0.0</td>\n",
       "      <td>0.0</td>\n",
       "      <td>0.0</td>\n",
       "      <td>0.0</td>\n",
       "      <td>0.0</td>\n",
       "      <td>0.0</td>\n",
       "      <td>0.0</td>\n",
       "      <td>0.0</td>\n",
       "      <td>0.0</td>\n",
       "      <td>...</td>\n",
       "      <td>0.0</td>\n",
       "      <td>0.0</td>\n",
       "      <td>0.0</td>\n",
       "      <td>0.0</td>\n",
       "      <td>0.0</td>\n",
       "      <td>0.0</td>\n",
       "      <td>0.000000</td>\n",
       "      <td>0.0</td>\n",
       "      <td>0.000000</td>\n",
       "      <td>0.0</td>\n",
       "    </tr>\n",
       "    <tr>\n",
       "      <th>4</th>\n",
       "      <td>M1H</td>\n",
       "      <td>0.0</td>\n",
       "      <td>0.0</td>\n",
       "      <td>0.0</td>\n",
       "      <td>0.0</td>\n",
       "      <td>0.0</td>\n",
       "      <td>0.0</td>\n",
       "      <td>0.0</td>\n",
       "      <td>0.0</td>\n",
       "      <td>0.0</td>\n",
       "      <td>...</td>\n",
       "      <td>0.0</td>\n",
       "      <td>0.0</td>\n",
       "      <td>0.0</td>\n",
       "      <td>0.0</td>\n",
       "      <td>0.0</td>\n",
       "      <td>0.0</td>\n",
       "      <td>0.033333</td>\n",
       "      <td>0.0</td>\n",
       "      <td>0.033333</td>\n",
       "      <td>0.0</td>\n",
       "    </tr>\n",
       "  </tbody>\n",
       "</table>\n",
       "<p>5 rows × 329 columns</p>\n",
       "</div>"
      ],
      "text/plain": [
       "  PostalCode  Accessories Store  Afghan Restaurant  Airport  Airport Lounge  \\\n",
       "0        M1B                0.0                0.0      0.0             0.0   \n",
       "1        M1C                0.0                0.0      0.0             0.0   \n",
       "2        M1E                0.0                0.0      0.0             0.0   \n",
       "3        M1G                0.0                0.0      0.0             0.0   \n",
       "4        M1H                0.0                0.0      0.0             0.0   \n",
       "\n",
       "   American Restaurant  Amphitheater  Animal Shelter  Antique Shop  Aquarium  \\\n",
       "0                  0.0           0.0             0.0           0.0       0.0   \n",
       "1                  0.0           0.0             0.0           0.0       0.0   \n",
       "2                  0.0           0.0             0.0           0.0       0.0   \n",
       "3                  0.0           0.0             0.0           0.0       0.0   \n",
       "4                  0.0           0.0             0.0           0.0       0.0   \n",
       "\n",
       "   ...  Video Store  Vietnamese Restaurant  Warehouse Store  Whisky Bar  \\\n",
       "0  ...          0.0                    0.0              0.0         0.0   \n",
       "1  ...          0.0                    0.0              0.0         0.0   \n",
       "2  ...          0.0                    0.0              0.0         0.0   \n",
       "3  ...          0.0                    0.0              0.0         0.0   \n",
       "4  ...          0.0                    0.0              0.0         0.0   \n",
       "\n",
       "   Wine Bar  Wine Shop  Wings Joint  Women's Store  Yoga Studio  Zoo  \n",
       "0       0.0        0.0     0.000000            0.0     0.000000  0.0  \n",
       "1       0.0        0.0     0.000000            0.0     0.000000  0.0  \n",
       "2       0.0        0.0     0.000000            0.0     0.000000  0.0  \n",
       "3       0.0        0.0     0.000000            0.0     0.000000  0.0  \n",
       "4       0.0        0.0     0.033333            0.0     0.033333  0.0  \n",
       "\n",
       "[5 rows x 329 columns]"
      ]
     },
     "execution_count": 353,
     "metadata": {},
     "output_type": "execute_result"
    }
   ],
   "source": [
    "# Evaluate weighs of very feature by grouping and calculating mean values\n",
    "toronto_grouped = toronto_onehot.groupby('PostalCode').mean().reset_index()\n",
    "toronto_grouped.head()"
   ]
  },
  {
   "cell_type": "code",
   "execution_count": 354,
   "metadata": {},
   "outputs": [],
   "source": [
    "# Focus on the first 5 weighs and append to final dataframe\n",
    "num_top_venues = 5\n",
    "\n",
    "for pocode in toronto_grouped['PostalCode']:\n",
    "    #print(\"----\"+pocode+\"----\")\n",
    "    temp = toronto_grouped[toronto_grouped['PostalCode'] == pocode].T.reset_index()\n",
    "    temp.columns = ['venue','freq']\n",
    "    temp = temp.iloc[1:]\n",
    "    temp['freq'] = temp['freq'].astype(float)\n",
    "    temp = temp.round({'freq': 2})\n",
    "    #print(temp.sort_values('freq', ascending=False).reset_index(drop=True).head(num_top_venues))\n",
    "    #print('\\n')"
   ]
  },
  {
   "cell_type": "code",
   "execution_count": 355,
   "metadata": {},
   "outputs": [],
   "source": [
    "# Function that returns sorted venues\n",
    "def return_most_common_venues(row, num_top_venues):\n",
    "    row_categories = row.iloc[1:]\n",
    "    row_categories_sorted = row_categories.sort_values(ascending=False)\n",
    "    \n",
    "    return row_categories_sorted.index.values[0:num_top_venues]"
   ]
  },
  {
   "cell_type": "code",
   "execution_count": 356,
   "metadata": {},
   "outputs": [
    {
     "data": {
      "text/html": [
       "<div>\n",
       "<style scoped>\n",
       "    .dataframe tbody tr th:only-of-type {\n",
       "        vertical-align: middle;\n",
       "    }\n",
       "\n",
       "    .dataframe tbody tr th {\n",
       "        vertical-align: top;\n",
       "    }\n",
       "\n",
       "    .dataframe thead th {\n",
       "        text-align: right;\n",
       "    }\n",
       "</style>\n",
       "<table border=\"1\" class=\"dataframe\">\n",
       "  <thead>\n",
       "    <tr style=\"text-align: right;\">\n",
       "      <th></th>\n",
       "      <th>PostalCode</th>\n",
       "      <th>1st Most Common Venue</th>\n",
       "      <th>2nd Most Common Venue</th>\n",
       "      <th>3rd Most Common Venue</th>\n",
       "      <th>4th Most Common Venue</th>\n",
       "      <th>5th Most Common Venue</th>\n",
       "    </tr>\n",
       "  </thead>\n",
       "  <tbody>\n",
       "    <tr>\n",
       "      <th>0</th>\n",
       "      <td>M1B</td>\n",
       "      <td>Fast Food Restaurant</td>\n",
       "      <td>Coffee Shop</td>\n",
       "      <td>Trail</td>\n",
       "      <td>Paper / Office Supplies Store</td>\n",
       "      <td>Chinese Restaurant</td>\n",
       "    </tr>\n",
       "    <tr>\n",
       "      <th>1</th>\n",
       "      <td>M1C</td>\n",
       "      <td>Burger Joint</td>\n",
       "      <td>Park</td>\n",
       "      <td>Breakfast Spot</td>\n",
       "      <td>Playground</td>\n",
       "      <td>Italian Restaurant</td>\n",
       "    </tr>\n",
       "    <tr>\n",
       "      <th>2</th>\n",
       "      <td>M1E</td>\n",
       "      <td>Pizza Place</td>\n",
       "      <td>Fast Food Restaurant</td>\n",
       "      <td>Coffee Shop</td>\n",
       "      <td>Sports Bar</td>\n",
       "      <td>Food &amp; Drink Shop</td>\n",
       "    </tr>\n",
       "    <tr>\n",
       "      <th>3</th>\n",
       "      <td>M1G</td>\n",
       "      <td>Park</td>\n",
       "      <td>Coffee Shop</td>\n",
       "      <td>Chinese Restaurant</td>\n",
       "      <td>Pharmacy</td>\n",
       "      <td>Mobile Phone Shop</td>\n",
       "    </tr>\n",
       "    <tr>\n",
       "      <th>4</th>\n",
       "      <td>M1H</td>\n",
       "      <td>Bakery</td>\n",
       "      <td>Coffee Shop</td>\n",
       "      <td>Gas Station</td>\n",
       "      <td>Indian Restaurant</td>\n",
       "      <td>Pharmacy</td>\n",
       "    </tr>\n",
       "  </tbody>\n",
       "</table>\n",
       "</div>"
      ],
      "text/plain": [
       "  PostalCode 1st Most Common Venue 2nd Most Common Venue  \\\n",
       "0        M1B  Fast Food Restaurant           Coffee Shop   \n",
       "1        M1C          Burger Joint                  Park   \n",
       "2        M1E           Pizza Place  Fast Food Restaurant   \n",
       "3        M1G                  Park           Coffee Shop   \n",
       "4        M1H                Bakery           Coffee Shop   \n",
       "\n",
       "  3rd Most Common Venue          4th Most Common Venue 5th Most Common Venue  \n",
       "0                 Trail  Paper / Office Supplies Store    Chinese Restaurant  \n",
       "1        Breakfast Spot                     Playground    Italian Restaurant  \n",
       "2           Coffee Shop                     Sports Bar     Food & Drink Shop  \n",
       "3    Chinese Restaurant                       Pharmacy     Mobile Phone Shop  \n",
       "4           Gas Station              Indian Restaurant              Pharmacy  "
      ]
     },
     "execution_count": 356,
     "metadata": {},
     "output_type": "execute_result"
    }
   ],
   "source": [
    "# Generate dataframe with most common venues per Postal Code\n",
    "num_top_venues = 5\n",
    "indicators = ['st', 'nd', 'rd']\n",
    "\n",
    "# create columns according to number of top venues\n",
    "columns = ['PostalCode']\n",
    "for ind in np.arange(num_top_venues):\n",
    "    try:\n",
    "        columns.append('{}{} Most Common Venue'.format(ind+1, indicators[ind]))\n",
    "    except:\n",
    "        columns.append('{}th Most Common Venue'.format(ind+1))\n",
    "\n",
    "# create a new dataframe\n",
    "postalcode_venues_sorted = pd.DataFrame(columns=columns)\n",
    "postalcode_venues_sorted['PostalCode'] = toronto_grouped['PostalCode']\n",
    "\n",
    "for ind in np.arange(toronto_grouped.shape[0]):\n",
    "    postalcode_venues_sorted.iloc[ind, 1:] = return_most_common_venues(toronto_grouped.iloc[ind, :], num_top_venues)\n",
    "\n",
    "postalcode_venues_sorted.head()"
   ]
  },
  {
   "cell_type": "markdown",
   "metadata": {},
   "source": [
    "### 4.Cluster PO Code\n",
    "Use of K-Means algorithm to clusterize data"
   ]
  },
  {
   "cell_type": "code",
   "execution_count": 357,
   "metadata": {},
   "outputs": [
    {
     "data": {
      "text/plain": [
       "array([1, 4, 1, 1, 1, 1, 1, 1, 1, 4, 1, 1, 1, 1, 1, 1, 1, 2, 4, 5, 2, 2,\n",
       "       4, 1, 4, 2, 2, 1, 1, 2, 4, 3, 1, 1, 1, 4, 2, 2, 1, 2, 2, 2, 2, 2,\n",
       "       2, 2, 2, 2, 2, 4, 2, 2, 2, 2, 2, 2, 2, 2, 2, 2, 2, 2, 2, 2, 2, 2,\n",
       "       2, 2, 2, 2, 2, 1, 1, 4, 2, 2, 2, 2, 1, 4, 1, 2, 2, 2, 2, 2, 2, 4,\n",
       "       1, 2, 4, 2, 4, 4, 2, 4, 4, 1, 1, 1, 1, 2], dtype=int32)"
      ]
     },
     "execution_count": 357,
     "metadata": {},
     "output_type": "execute_result"
    }
   ],
   "source": [
    "# set number of clusters\n",
    "kclusters = 5\n",
    "\n",
    "toronto_grouped_clustering = toronto_grouped.drop('PostalCode', 1)\n",
    "\n",
    "# run k-means clustering\n",
    "kmeans = KMeans(n_clusters=kclusters, random_state=0).fit(toronto_grouped_clustering)\n",
    "\n",
    "# check cluster labels generated for each row in the dataframe\n",
    "kmeans.labels_ += 1 # reserved label=0 for PO code with no venues\n",
    "kmeans.labels_"
   ]
  },
  {
   "cell_type": "code",
   "execution_count": 358,
   "metadata": {
    "scrolled": true
   },
   "outputs": [
    {
     "data": {
      "text/html": [
       "<div>\n",
       "<style scoped>\n",
       "    .dataframe tbody tr th:only-of-type {\n",
       "        vertical-align: middle;\n",
       "    }\n",
       "\n",
       "    .dataframe tbody tr th {\n",
       "        vertical-align: top;\n",
       "    }\n",
       "\n",
       "    .dataframe thead th {\n",
       "        text-align: right;\n",
       "    }\n",
       "</style>\n",
       "<table border=\"1\" class=\"dataframe\">\n",
       "  <thead>\n",
       "    <tr style=\"text-align: right;\">\n",
       "      <th></th>\n",
       "      <th>PostalCode</th>\n",
       "      <th>Borough</th>\n",
       "      <th>Neighborhood</th>\n",
       "      <th>Latitude</th>\n",
       "      <th>Longitude</th>\n",
       "      <th>Cluster Labels</th>\n",
       "      <th>1st Most Common Venue</th>\n",
       "      <th>2nd Most Common Venue</th>\n",
       "      <th>3rd Most Common Venue</th>\n",
       "      <th>4th Most Common Venue</th>\n",
       "      <th>5th Most Common Venue</th>\n",
       "    </tr>\n",
       "  </thead>\n",
       "  <tbody>\n",
       "    <tr>\n",
       "      <th>0</th>\n",
       "      <td>M1B</td>\n",
       "      <td>Scarborough</td>\n",
       "      <td>Rouge,Malvern</td>\n",
       "      <td>43.806686</td>\n",
       "      <td>-79.194353</td>\n",
       "      <td>1</td>\n",
       "      <td>Fast Food Restaurant</td>\n",
       "      <td>Coffee Shop</td>\n",
       "      <td>Trail</td>\n",
       "      <td>Paper / Office Supplies Store</td>\n",
       "      <td>Chinese Restaurant</td>\n",
       "    </tr>\n",
       "    <tr>\n",
       "      <th>1</th>\n",
       "      <td>M1C</td>\n",
       "      <td>Scarborough</td>\n",
       "      <td>Highland Creek,Rouge Hill,Port Union</td>\n",
       "      <td>43.784535</td>\n",
       "      <td>-79.160497</td>\n",
       "      <td>4</td>\n",
       "      <td>Burger Joint</td>\n",
       "      <td>Park</td>\n",
       "      <td>Breakfast Spot</td>\n",
       "      <td>Playground</td>\n",
       "      <td>Italian Restaurant</td>\n",
       "    </tr>\n",
       "    <tr>\n",
       "      <th>2</th>\n",
       "      <td>M1E</td>\n",
       "      <td>Scarborough</td>\n",
       "      <td>Guildwood,Morningside,West Hill</td>\n",
       "      <td>43.763573</td>\n",
       "      <td>-79.188711</td>\n",
       "      <td>1</td>\n",
       "      <td>Pizza Place</td>\n",
       "      <td>Fast Food Restaurant</td>\n",
       "      <td>Coffee Shop</td>\n",
       "      <td>Sports Bar</td>\n",
       "      <td>Food &amp; Drink Shop</td>\n",
       "    </tr>\n",
       "    <tr>\n",
       "      <th>3</th>\n",
       "      <td>M1G</td>\n",
       "      <td>Scarborough</td>\n",
       "      <td>Woburn</td>\n",
       "      <td>43.770992</td>\n",
       "      <td>-79.216917</td>\n",
       "      <td>1</td>\n",
       "      <td>Park</td>\n",
       "      <td>Coffee Shop</td>\n",
       "      <td>Chinese Restaurant</td>\n",
       "      <td>Pharmacy</td>\n",
       "      <td>Mobile Phone Shop</td>\n",
       "    </tr>\n",
       "    <tr>\n",
       "      <th>4</th>\n",
       "      <td>M1H</td>\n",
       "      <td>Scarborough</td>\n",
       "      <td>Cedarbrae</td>\n",
       "      <td>43.773136</td>\n",
       "      <td>-79.239476</td>\n",
       "      <td>1</td>\n",
       "      <td>Bakery</td>\n",
       "      <td>Coffee Shop</td>\n",
       "      <td>Gas Station</td>\n",
       "      <td>Indian Restaurant</td>\n",
       "      <td>Pharmacy</td>\n",
       "    </tr>\n",
       "  </tbody>\n",
       "</table>\n",
       "</div>"
      ],
      "text/plain": [
       "  PostalCode      Borough                          Neighborhood   Latitude  \\\n",
       "0        M1B  Scarborough                         Rouge,Malvern  43.806686   \n",
       "1        M1C  Scarborough  Highland Creek,Rouge Hill,Port Union  43.784535   \n",
       "2        M1E  Scarborough       Guildwood,Morningside,West Hill  43.763573   \n",
       "3        M1G  Scarborough                                Woburn  43.770992   \n",
       "4        M1H  Scarborough                             Cedarbrae  43.773136   \n",
       "\n",
       "   Longitude  Cluster Labels 1st Most Common Venue 2nd Most Common Venue  \\\n",
       "0 -79.194353               1  Fast Food Restaurant           Coffee Shop   \n",
       "1 -79.160497               4          Burger Joint                  Park   \n",
       "2 -79.188711               1           Pizza Place  Fast Food Restaurant   \n",
       "3 -79.216917               1                  Park           Coffee Shop   \n",
       "4 -79.239476               1                Bakery           Coffee Shop   \n",
       "\n",
       "  3rd Most Common Venue          4th Most Common Venue 5th Most Common Venue  \n",
       "0                 Trail  Paper / Office Supplies Store    Chinese Restaurant  \n",
       "1        Breakfast Spot                     Playground    Italian Restaurant  \n",
       "2           Coffee Shop                     Sports Bar     Food & Drink Shop  \n",
       "3    Chinese Restaurant                       Pharmacy     Mobile Phone Shop  \n",
       "4           Gas Station              Indian Restaurant              Pharmacy  "
      ]
     },
     "execution_count": 358,
     "metadata": {},
     "output_type": "execute_result"
    }
   ],
   "source": [
    "# add clustering labels\n",
    "postalcode_venues_sorted.insert(0, 'Cluster Labels', kmeans.labels_)\n",
    "# original data\n",
    "toronto_merged = output_df\n",
    "\n",
    "# merge toronto_grouped with toronto_data to add latitude/longitude for each neighborhood\n",
    "toronto_merged = toronto_merged.join(postalcode_venues_sorted.set_index('PostalCode'), on='PostalCode')\n",
    "\n",
    "# once merged with original data, no data shows Nan when no venues are present\n",
    "toronto_merged.fillna(0, inplace=True)\n",
    "toronto_merged = toronto_merged.astype({'Cluster Labels':'int32'}, inplace=True)\n",
    "\n",
    "toronto_merged.head()"
   ]
  },
  {
   "cell_type": "code",
   "execution_count": 359,
   "metadata": {
    "scrolled": true
   },
   "outputs": [
    {
     "data": {
      "text/plain": [
       "PostalCode                object\n",
       "Borough                   object\n",
       "Neighborhood              object\n",
       "Latitude                 float64\n",
       "Longitude                float64\n",
       "Cluster Labels             int32\n",
       "1st Most Common Venue     object\n",
       "2nd Most Common Venue     object\n",
       "3rd Most Common Venue     object\n",
       "4th Most Common Venue     object\n",
       "5th Most Common Venue     object\n",
       "dtype: object"
      ]
     },
     "execution_count": 359,
     "metadata": {},
     "output_type": "execute_result"
    }
   ],
   "source": [
    "# check data integrity\n",
    "toronto_merged.dtypes"
   ]
  },
  {
   "cell_type": "markdown",
   "metadata": {},
   "source": [
    "### 5. Map Visualization\n",
    "Plot the final clusterize dataframe"
   ]
  },
  {
   "cell_type": "code",
   "execution_count": 362,
   "metadata": {
    "scrolled": false
   },
   "outputs": [
    {
     "data": {
      "text/html": [
       "<div style=\"width:100%;\"><div style=\"position:relative;width:100%;height:0;padding-bottom:60%;\"><iframe src=\"about:blank\" style=\"position:absolute;width:100%;height:100%;left:0;top:0;border:none !important;\" data-html=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 onload=\"this.contentDocument.open();this.contentDocument.write(atob(this.getAttribute('data-html')));this.contentDocument.close();\" allowfullscreen webkitallowfullscreen mozallowfullscreen></iframe></div></div>"
      ],
      "text/plain": [
       "<IPython.core.display.HTML object>"
      ]
     },
     "execution_count": 362,
     "metadata": {},
     "output_type": "execute_result"
    }
   ],
   "source": [
    "# create map\n",
    "map_clusters = folium.Map(location=[latitude, longitude], zoom_start=11)\n",
    "\n",
    "# Add main \n",
    "points_a = [[43.82,-79.34],[43.67,-79.28]]\n",
    "points_b = [[43.71,-79.295],[43.70,-79.43]]\n",
    "points_c = [[43.77,-79.53],[43.70,-79.43]]\n",
    "points_d = [[43.64,-79.46],[43.70,-79.43]]\n",
    "\n",
    "# set color scheme for the clusters\n",
    "x = np.arange(kclusters+1)\n",
    "ys = [i + x + (i*x)**2 for i in range(kclusters+1)]\n",
    "colors_array = cm.rainbow(np.linspace(0, 1, len(ys)))\n",
    "rainbow = [colors.rgb2hex(i) for i in colors_array]\n",
    "\n",
    "\n",
    "# add markers to the map\n",
    "markers_colors = []\n",
    "for lat, lon, borough, pocode, cluster in zip(toronto_merged['Latitude'], toronto_merged['Longitude'], toronto_merged['Borough'], \n",
    "                                              toronto_merged['PostalCode'], toronto_merged['Cluster Labels']):\n",
    "    label = folium.Popup(str(borough) + '-' + str(pocode) + ' Cluster ' + str(cluster), parse_html=True)\n",
    "    folium.CircleMarker(\n",
    "        [lat, lon],\n",
    "        radius=5,\n",
    "        popup=label,\n",
    "        color=rainbow[cluster-1],\n",
    "        fill=True,\n",
    "        fill_color=rainbow[cluster-1],\n",
    "        fill_opacity=0.7).add_to(map_clusters)\n",
    "    \n",
    "# Plot lines that represent the neighboorhoods: Scarborough, North York, East york and Etobicoke\n",
    "#folium.PolyLine(points_a, color=\"green\", weight=2.5, opacity=0.5).add_to(map_clusters)\n",
    "#folium.PolyLine(points_b, color=\"green\", weight=2.5, opacity=0.5).add_to(map_clusters)\n",
    "#folium.PolyLine(points_c, color=\"green\", weight=2.5, opacity=0.5).add_to(map_clusters)\n",
    "#folium.PolyLine(points_d, color=\"green\", weight=2.5, opacity=0.5).add_to(map_clusters)\n",
    "\n",
    "HTML(map_clusters._repr_html_())"
   ]
  },
  {
   "cell_type": "markdown",
   "metadata": {},
   "source": [
    "### 6. Examine clusters\n",
    "Rational behind centroids clusterization\n",
    "Note: On the first attempt to clusterize, the map showed all the nodes in just two clusters. Looks like all the points were isolated, so I increase the radius of the request to Foursquare from 500m to 1000m. Still is within a walking distance from {HOME}, and the results are quite different."
   ]
  },
  {
   "cell_type": "markdown",
   "metadata": {},
   "source": [
    "#### 1. Cluster = 0. Only one single entry, located in the upper right side of the map, in red color. No venues, represents Rouge National Park area."
   ]
  },
  {
   "cell_type": "code",
   "execution_count": 363,
   "metadata": {},
   "outputs": [
    {
     "data": {
      "text/html": [
       "<div>\n",
       "<style scoped>\n",
       "    .dataframe tbody tr th:only-of-type {\n",
       "        vertical-align: middle;\n",
       "    }\n",
       "\n",
       "    .dataframe tbody tr th {\n",
       "        vertical-align: top;\n",
       "    }\n",
       "\n",
       "    .dataframe thead th {\n",
       "        text-align: right;\n",
       "    }\n",
       "</style>\n",
       "<table border=\"1\" class=\"dataframe\">\n",
       "  <thead>\n",
       "    <tr style=\"text-align: right;\">\n",
       "      <th></th>\n",
       "      <th>PostalCode</th>\n",
       "      <th>Borough</th>\n",
       "      <th>Neighborhood</th>\n",
       "      <th>Latitude</th>\n",
       "      <th>Longitude</th>\n",
       "      <th>Cluster Labels</th>\n",
       "      <th>1st Most Common Venue</th>\n",
       "      <th>2nd Most Common Venue</th>\n",
       "      <th>3rd Most Common Venue</th>\n",
       "      <th>4th Most Common Venue</th>\n",
       "      <th>5th Most Common Venue</th>\n",
       "    </tr>\n",
       "  </thead>\n",
       "  <tbody>\n",
       "    <tr>\n",
       "      <th>16</th>\n",
       "      <td>M1X</td>\n",
       "      <td>Scarborough</td>\n",
       "      <td>Upper Rouge</td>\n",
       "      <td>43.836125</td>\n",
       "      <td>-79.205636</td>\n",
       "      <td>0</td>\n",
       "      <td>0</td>\n",
       "      <td>0</td>\n",
       "      <td>0</td>\n",
       "      <td>0</td>\n",
       "      <td>0</td>\n",
       "    </tr>\n",
       "  </tbody>\n",
       "</table>\n",
       "</div>"
      ],
      "text/plain": [
       "   PostalCode      Borough Neighborhood   Latitude  Longitude  Cluster Labels  \\\n",
       "16        M1X  Scarborough  Upper Rouge  43.836125 -79.205636               0   \n",
       "\n",
       "   1st Most Common Venue 2nd Most Common Venue 3rd Most Common Venue  \\\n",
       "16                     0                     0                     0   \n",
       "\n",
       "   4th Most Common Venue 5th Most Common Venue  \n",
       "16                     0                     0  "
      ]
     },
     "execution_count": 363,
     "metadata": {},
     "output_type": "execute_result"
    }
   ],
   "source": [
    "toronto_merged.loc[toronto_merged['Cluster Labels'] == 0, toronto_merged.columns[[0] + list(range(1, toronto_merged.shape[1]))]]"
   ]
  },
  {
   "cell_type": "markdown",
   "metadata": {},
   "source": [
    "#### 2. Cluster = 1. Scarborough area is represented in this cluster, plus vincinity areas from East and North York. Also some outliers from Etobicoke area."
   ]
  },
  {
   "cell_type": "code",
   "execution_count": 371,
   "metadata": {
    "scrolled": true
   },
   "outputs": [
    {
     "data": {
      "text/html": [
       "<div>\n",
       "<style scoped>\n",
       "    .dataframe tbody tr th:only-of-type {\n",
       "        vertical-align: middle;\n",
       "    }\n",
       "\n",
       "    .dataframe tbody tr th {\n",
       "        vertical-align: top;\n",
       "    }\n",
       "\n",
       "    .dataframe thead th {\n",
       "        text-align: right;\n",
       "    }\n",
       "</style>\n",
       "<table border=\"1\" class=\"dataframe\">\n",
       "  <thead>\n",
       "    <tr style=\"text-align: right;\">\n",
       "      <th></th>\n",
       "      <th>PostalCode</th>\n",
       "      <th>Borough</th>\n",
       "      <th>Neighborhood</th>\n",
       "      <th>Latitude</th>\n",
       "      <th>Longitude</th>\n",
       "      <th>Cluster Labels</th>\n",
       "      <th>1st Most Common Venue</th>\n",
       "      <th>2nd Most Common Venue</th>\n",
       "      <th>3rd Most Common Venue</th>\n",
       "      <th>4th Most Common Venue</th>\n",
       "      <th>5th Most Common Venue</th>\n",
       "    </tr>\n",
       "  </thead>\n",
       "  <tbody>\n",
       "    <tr>\n",
       "      <th>0</th>\n",
       "      <td>M1B</td>\n",
       "      <td>Scarborough</td>\n",
       "      <td>Rouge,Malvern</td>\n",
       "      <td>43.806686</td>\n",
       "      <td>-79.194353</td>\n",
       "      <td>1</td>\n",
       "      <td>Fast Food Restaurant</td>\n",
       "      <td>Coffee Shop</td>\n",
       "      <td>Trail</td>\n",
       "      <td>Paper / Office Supplies Store</td>\n",
       "      <td>Chinese Restaurant</td>\n",
       "    </tr>\n",
       "    <tr>\n",
       "      <th>2</th>\n",
       "      <td>M1E</td>\n",
       "      <td>Scarborough</td>\n",
       "      <td>Guildwood,Morningside,West Hill</td>\n",
       "      <td>43.763573</td>\n",
       "      <td>-79.188711</td>\n",
       "      <td>1</td>\n",
       "      <td>Pizza Place</td>\n",
       "      <td>Fast Food Restaurant</td>\n",
       "      <td>Coffee Shop</td>\n",
       "      <td>Sports Bar</td>\n",
       "      <td>Food &amp; Drink Shop</td>\n",
       "    </tr>\n",
       "    <tr>\n",
       "      <th>3</th>\n",
       "      <td>M1G</td>\n",
       "      <td>Scarborough</td>\n",
       "      <td>Woburn</td>\n",
       "      <td>43.770992</td>\n",
       "      <td>-79.216917</td>\n",
       "      <td>1</td>\n",
       "      <td>Park</td>\n",
       "      <td>Coffee Shop</td>\n",
       "      <td>Chinese Restaurant</td>\n",
       "      <td>Pharmacy</td>\n",
       "      <td>Mobile Phone Shop</td>\n",
       "    </tr>\n",
       "    <tr>\n",
       "      <th>4</th>\n",
       "      <td>M1H</td>\n",
       "      <td>Scarborough</td>\n",
       "      <td>Cedarbrae</td>\n",
       "      <td>43.773136</td>\n",
       "      <td>-79.239476</td>\n",
       "      <td>1</td>\n",
       "      <td>Bakery</td>\n",
       "      <td>Coffee Shop</td>\n",
       "      <td>Gas Station</td>\n",
       "      <td>Indian Restaurant</td>\n",
       "      <td>Pharmacy</td>\n",
       "    </tr>\n",
       "    <tr>\n",
       "      <th>5</th>\n",
       "      <td>M1J</td>\n",
       "      <td>Scarborough</td>\n",
       "      <td>Scarborough Village</td>\n",
       "      <td>43.744734</td>\n",
       "      <td>-79.239476</td>\n",
       "      <td>1</td>\n",
       "      <td>Ice Cream Shop</td>\n",
       "      <td>Japanese Restaurant</td>\n",
       "      <td>Restaurant</td>\n",
       "      <td>Fast Food Restaurant</td>\n",
       "      <td>Coffee Shop</td>\n",
       "    </tr>\n",
       "  </tbody>\n",
       "</table>\n",
       "</div>"
      ],
      "text/plain": [
       "  PostalCode      Borough                     Neighborhood   Latitude  \\\n",
       "0        M1B  Scarborough                    Rouge,Malvern  43.806686   \n",
       "2        M1E  Scarborough  Guildwood,Morningside,West Hill  43.763573   \n",
       "3        M1G  Scarborough                           Woburn  43.770992   \n",
       "4        M1H  Scarborough                        Cedarbrae  43.773136   \n",
       "5        M1J  Scarborough              Scarborough Village  43.744734   \n",
       "\n",
       "   Longitude  Cluster Labels 1st Most Common Venue 2nd Most Common Venue  \\\n",
       "0 -79.194353               1  Fast Food Restaurant           Coffee Shop   \n",
       "2 -79.188711               1           Pizza Place  Fast Food Restaurant   \n",
       "3 -79.216917               1                  Park           Coffee Shop   \n",
       "4 -79.239476               1                Bakery           Coffee Shop   \n",
       "5 -79.239476               1        Ice Cream Shop   Japanese Restaurant   \n",
       "\n",
       "  3rd Most Common Venue          4th Most Common Venue 5th Most Common Venue  \n",
       "0                 Trail  Paper / Office Supplies Store    Chinese Restaurant  \n",
       "2           Coffee Shop                     Sports Bar     Food & Drink Shop  \n",
       "3    Chinese Restaurant                       Pharmacy     Mobile Phone Shop  \n",
       "4           Gas Station              Indian Restaurant              Pharmacy  \n",
       "5            Restaurant           Fast Food Restaurant           Coffee Shop  "
      ]
     },
     "execution_count": 371,
     "metadata": {},
     "output_type": "execute_result"
    }
   ],
   "source": [
    "toronto_merged.loc[toronto_merged['Cluster Labels'] == 1, toronto_merged.columns[[0] + list(range(1, toronto_merged.shape[1]))]].head()"
   ]
  },
  {
   "cell_type": "markdown",
   "metadata": {},
   "source": [
    "#### 3. Cluster = 2. Mainly represents North and East York Toronto area."
   ]
  },
  {
   "cell_type": "code",
   "execution_count": 372,
   "metadata": {
    "scrolled": true
   },
   "outputs": [
    {
     "data": {
      "text/html": [
       "<div>\n",
       "<style scoped>\n",
       "    .dataframe tbody tr th:only-of-type {\n",
       "        vertical-align: middle;\n",
       "    }\n",
       "\n",
       "    .dataframe tbody tr th {\n",
       "        vertical-align: top;\n",
       "    }\n",
       "\n",
       "    .dataframe thead th {\n",
       "        text-align: right;\n",
       "    }\n",
       "</style>\n",
       "<table border=\"1\" class=\"dataframe\">\n",
       "  <thead>\n",
       "    <tr style=\"text-align: right;\">\n",
       "      <th></th>\n",
       "      <th>PostalCode</th>\n",
       "      <th>Borough</th>\n",
       "      <th>Neighborhood</th>\n",
       "      <th>Latitude</th>\n",
       "      <th>Longitude</th>\n",
       "      <th>Cluster Labels</th>\n",
       "      <th>1st Most Common Venue</th>\n",
       "      <th>2nd Most Common Venue</th>\n",
       "      <th>3rd Most Common Venue</th>\n",
       "      <th>4th Most Common Venue</th>\n",
       "      <th>5th Most Common Venue</th>\n",
       "    </tr>\n",
       "  </thead>\n",
       "  <tbody>\n",
       "    <tr>\n",
       "      <th>18</th>\n",
       "      <td>M2J</td>\n",
       "      <td>North York</td>\n",
       "      <td>Fairview,Henry Farm,Oriole</td>\n",
       "      <td>43.778517</td>\n",
       "      <td>-79.346556</td>\n",
       "      <td>2</td>\n",
       "      <td>Clothing Store</td>\n",
       "      <td>Coffee Shop</td>\n",
       "      <td>Fast Food Restaurant</td>\n",
       "      <td>Sandwich Place</td>\n",
       "      <td>Juice Bar</td>\n",
       "    </tr>\n",
       "    <tr>\n",
       "      <th>21</th>\n",
       "      <td>M2M</td>\n",
       "      <td>North York</td>\n",
       "      <td>Newtonbrook,Willowdale</td>\n",
       "      <td>43.789053</td>\n",
       "      <td>-79.408493</td>\n",
       "      <td>2</td>\n",
       "      <td>Korean Restaurant</td>\n",
       "      <td>Café</td>\n",
       "      <td>Coffee Shop</td>\n",
       "      <td>Pizza Place</td>\n",
       "      <td>Middle Eastern Restaurant</td>\n",
       "    </tr>\n",
       "    <tr>\n",
       "      <th>22</th>\n",
       "      <td>M2N</td>\n",
       "      <td>North York</td>\n",
       "      <td>Willowdale South</td>\n",
       "      <td>43.770120</td>\n",
       "      <td>-79.408493</td>\n",
       "      <td>2</td>\n",
       "      <td>Coffee Shop</td>\n",
       "      <td>Ramen Restaurant</td>\n",
       "      <td>Korean Restaurant</td>\n",
       "      <td>Fast Food Restaurant</td>\n",
       "      <td>Japanese Restaurant</td>\n",
       "    </tr>\n",
       "    <tr>\n",
       "      <th>26</th>\n",
       "      <td>M3B</td>\n",
       "      <td>North York</td>\n",
       "      <td>Don Mills North</td>\n",
       "      <td>43.745906</td>\n",
       "      <td>-79.352188</td>\n",
       "      <td>2</td>\n",
       "      <td>Pizza Place</td>\n",
       "      <td>Japanese Restaurant</td>\n",
       "      <td>Coffee Shop</td>\n",
       "      <td>Burger Joint</td>\n",
       "      <td>Office</td>\n",
       "    </tr>\n",
       "    <tr>\n",
       "      <th>27</th>\n",
       "      <td>M3C</td>\n",
       "      <td>North York</td>\n",
       "      <td>Flemingdon Park,Don Mills South</td>\n",
       "      <td>43.725900</td>\n",
       "      <td>-79.340923</td>\n",
       "      <td>2</td>\n",
       "      <td>Gym</td>\n",
       "      <td>Coffee Shop</td>\n",
       "      <td>Restaurant</td>\n",
       "      <td>Asian Restaurant</td>\n",
       "      <td>Supermarket</td>\n",
       "    </tr>\n",
       "  </tbody>\n",
       "</table>\n",
       "</div>"
      ],
      "text/plain": [
       "   PostalCode     Borough                     Neighborhood   Latitude  \\\n",
       "18        M2J  North York       Fairview,Henry Farm,Oriole  43.778517   \n",
       "21        M2M  North York           Newtonbrook,Willowdale  43.789053   \n",
       "22        M2N  North York                 Willowdale South  43.770120   \n",
       "26        M3B  North York                  Don Mills North  43.745906   \n",
       "27        M3C  North York  Flemingdon Park,Don Mills South  43.725900   \n",
       "\n",
       "    Longitude  Cluster Labels 1st Most Common Venue 2nd Most Common Venue  \\\n",
       "18 -79.346556               2        Clothing Store           Coffee Shop   \n",
       "21 -79.408493               2     Korean Restaurant                  Café   \n",
       "22 -79.408493               2           Coffee Shop      Ramen Restaurant   \n",
       "26 -79.352188               2           Pizza Place   Japanese Restaurant   \n",
       "27 -79.340923               2                   Gym           Coffee Shop   \n",
       "\n",
       "   3rd Most Common Venue 4th Most Common Venue      5th Most Common Venue  \n",
       "18  Fast Food Restaurant        Sandwich Place                  Juice Bar  \n",
       "21           Coffee Shop           Pizza Place  Middle Eastern Restaurant  \n",
       "22     Korean Restaurant  Fast Food Restaurant        Japanese Restaurant  \n",
       "26           Coffee Shop          Burger Joint                     Office  \n",
       "27            Restaurant      Asian Restaurant                Supermarket  "
      ]
     },
     "execution_count": 372,
     "metadata": {},
     "output_type": "execute_result"
    }
   ],
   "source": [
    "toronto_merged.loc[toronto_merged['Cluster Labels'] == 2, toronto_merged.columns[[0] + list(range(1, toronto_merged.shape[1]))]].head()"
   ]
  },
  {
   "cell_type": "markdown",
   "metadata": {},
   "source": [
    "#### 4. Cluster = 3. Altough belongs to North York, is represented as a single centroid, close to green park areas."
   ]
  },
  {
   "cell_type": "code",
   "execution_count": 374,
   "metadata": {
    "scrolled": false
   },
   "outputs": [
    {
     "data": {
      "text/html": [
       "<div>\n",
       "<style scoped>\n",
       "    .dataframe tbody tr th:only-of-type {\n",
       "        vertical-align: middle;\n",
       "    }\n",
       "\n",
       "    .dataframe tbody tr th {\n",
       "        vertical-align: top;\n",
       "    }\n",
       "\n",
       "    .dataframe thead th {\n",
       "        text-align: right;\n",
       "    }\n",
       "</style>\n",
       "<table border=\"1\" class=\"dataframe\">\n",
       "  <thead>\n",
       "    <tr style=\"text-align: right;\">\n",
       "      <th></th>\n",
       "      <th>PostalCode</th>\n",
       "      <th>Borough</th>\n",
       "      <th>Neighborhood</th>\n",
       "      <th>Latitude</th>\n",
       "      <th>Longitude</th>\n",
       "      <th>Cluster Labels</th>\n",
       "      <th>1st Most Common Venue</th>\n",
       "      <th>2nd Most Common Venue</th>\n",
       "      <th>3rd Most Common Venue</th>\n",
       "      <th>4th Most Common Venue</th>\n",
       "      <th>5th Most Common Venue</th>\n",
       "    </tr>\n",
       "  </thead>\n",
       "  <tbody>\n",
       "    <tr>\n",
       "      <th>32</th>\n",
       "      <td>M3M</td>\n",
       "      <td>North York</td>\n",
       "      <td>Downsview Central</td>\n",
       "      <td>43.728496</td>\n",
       "      <td>-79.495697</td>\n",
       "      <td>3</td>\n",
       "      <td>Vietnamese Restaurant</td>\n",
       "      <td>Thai Restaurant</td>\n",
       "      <td>Baseball Field</td>\n",
       "      <td>Zoo</td>\n",
       "      <td>Field</td>\n",
       "    </tr>\n",
       "  </tbody>\n",
       "</table>\n",
       "</div>"
      ],
      "text/plain": [
       "   PostalCode     Borough       Neighborhood   Latitude  Longitude  \\\n",
       "32        M3M  North York  Downsview Central  43.728496 -79.495697   \n",
       "\n",
       "    Cluster Labels  1st Most Common Venue 2nd Most Common Venue  \\\n",
       "32               3  Vietnamese Restaurant       Thai Restaurant   \n",
       "\n",
       "   3rd Most Common Venue 4th Most Common Venue 5th Most Common Venue  \n",
       "32        Baseball Field                   Zoo                 Field  "
      ]
     },
     "execution_count": 374,
     "metadata": {},
     "output_type": "execute_result"
    }
   ],
   "source": [
    "toronto_merged.loc[toronto_merged['Cluster Labels'] == 3, toronto_merged.columns[[0] + list(range(1, toronto_merged.shape[1]))]]"
   ]
  },
  {
   "cell_type": "markdown",
   "metadata": {},
   "source": [
    "#### 5. Cluster = 4. Mainly represents Etobicoke area, some outliers in Downtown Toronto and Scarborough."
   ]
  },
  {
   "cell_type": "code",
   "execution_count": 375,
   "metadata": {
    "scrolled": true
   },
   "outputs": [
    {
     "data": {
      "text/html": [
       "<div>\n",
       "<style scoped>\n",
       "    .dataframe tbody tr th:only-of-type {\n",
       "        vertical-align: middle;\n",
       "    }\n",
       "\n",
       "    .dataframe tbody tr th {\n",
       "        vertical-align: top;\n",
       "    }\n",
       "\n",
       "    .dataframe thead th {\n",
       "        text-align: right;\n",
       "    }\n",
       "</style>\n",
       "<table border=\"1\" class=\"dataframe\">\n",
       "  <thead>\n",
       "    <tr style=\"text-align: right;\">\n",
       "      <th></th>\n",
       "      <th>PostalCode</th>\n",
       "      <th>Borough</th>\n",
       "      <th>Neighborhood</th>\n",
       "      <th>Latitude</th>\n",
       "      <th>Longitude</th>\n",
       "      <th>Cluster Labels</th>\n",
       "      <th>1st Most Common Venue</th>\n",
       "      <th>2nd Most Common Venue</th>\n",
       "      <th>3rd Most Common Venue</th>\n",
       "      <th>4th Most Common Venue</th>\n",
       "      <th>5th Most Common Venue</th>\n",
       "    </tr>\n",
       "  </thead>\n",
       "  <tbody>\n",
       "    <tr>\n",
       "      <th>1</th>\n",
       "      <td>M1C</td>\n",
       "      <td>Scarborough</td>\n",
       "      <td>Highland Creek,Rouge Hill,Port Union</td>\n",
       "      <td>43.784535</td>\n",
       "      <td>-79.160497</td>\n",
       "      <td>4</td>\n",
       "      <td>Burger Joint</td>\n",
       "      <td>Park</td>\n",
       "      <td>Breakfast Spot</td>\n",
       "      <td>Playground</td>\n",
       "      <td>Italian Restaurant</td>\n",
       "    </tr>\n",
       "    <tr>\n",
       "      <th>9</th>\n",
       "      <td>M1N</td>\n",
       "      <td>Scarborough</td>\n",
       "      <td>Birch Cliff,Cliffside West</td>\n",
       "      <td>43.692657</td>\n",
       "      <td>-79.264848</td>\n",
       "      <td>4</td>\n",
       "      <td>Park</td>\n",
       "      <td>Restaurant</td>\n",
       "      <td>Thai Restaurant</td>\n",
       "      <td>Skating Rink</td>\n",
       "      <td>Diner</td>\n",
       "    </tr>\n",
       "    <tr>\n",
       "      <th>19</th>\n",
       "      <td>M2K</td>\n",
       "      <td>North York</td>\n",
       "      <td>Bayview Village</td>\n",
       "      <td>43.786947</td>\n",
       "      <td>-79.385975</td>\n",
       "      <td>4</td>\n",
       "      <td>Japanese Restaurant</td>\n",
       "      <td>Gas Station</td>\n",
       "      <td>Bank</td>\n",
       "      <td>Grocery Store</td>\n",
       "      <td>Chinese Restaurant</td>\n",
       "    </tr>\n",
       "    <tr>\n",
       "      <th>23</th>\n",
       "      <td>M2P</td>\n",
       "      <td>North York</td>\n",
       "      <td>York Mills West</td>\n",
       "      <td>43.752758</td>\n",
       "      <td>-79.400049</td>\n",
       "      <td>4</td>\n",
       "      <td>Park</td>\n",
       "      <td>Coffee Shop</td>\n",
       "      <td>Restaurant</td>\n",
       "      <td>Dog Run</td>\n",
       "      <td>French Restaurant</td>\n",
       "    </tr>\n",
       "    <tr>\n",
       "      <th>25</th>\n",
       "      <td>M3A</td>\n",
       "      <td>North York</td>\n",
       "      <td>Parkwoods</td>\n",
       "      <td>43.753259</td>\n",
       "      <td>-79.329656</td>\n",
       "      <td>4</td>\n",
       "      <td>Park</td>\n",
       "      <td>Shopping Mall</td>\n",
       "      <td>Bus Stop</td>\n",
       "      <td>Convenience Store</td>\n",
       "      <td>Pharmacy</td>\n",
       "    </tr>\n",
       "  </tbody>\n",
       "</table>\n",
       "</div>"
      ],
      "text/plain": [
       "   PostalCode      Borough                          Neighborhood   Latitude  \\\n",
       "1         M1C  Scarborough  Highland Creek,Rouge Hill,Port Union  43.784535   \n",
       "9         M1N  Scarborough            Birch Cliff,Cliffside West  43.692657   \n",
       "19        M2K   North York                       Bayview Village  43.786947   \n",
       "23        M2P   North York                       York Mills West  43.752758   \n",
       "25        M3A   North York                             Parkwoods  43.753259   \n",
       "\n",
       "    Longitude  Cluster Labels 1st Most Common Venue 2nd Most Common Venue  \\\n",
       "1  -79.160497               4          Burger Joint                  Park   \n",
       "9  -79.264848               4                  Park            Restaurant   \n",
       "19 -79.385975               4   Japanese Restaurant           Gas Station   \n",
       "23 -79.400049               4                  Park           Coffee Shop   \n",
       "25 -79.329656               4                  Park         Shopping Mall   \n",
       "\n",
       "   3rd Most Common Venue 4th Most Common Venue 5th Most Common Venue  \n",
       "1         Breakfast Spot            Playground    Italian Restaurant  \n",
       "9        Thai Restaurant          Skating Rink                 Diner  \n",
       "19                  Bank         Grocery Store    Chinese Restaurant  \n",
       "23            Restaurant               Dog Run     French Restaurant  \n",
       "25              Bus Stop     Convenience Store              Pharmacy  "
      ]
     },
     "execution_count": 375,
     "metadata": {},
     "output_type": "execute_result"
    }
   ],
   "source": [
    "toronto_merged.loc[toronto_merged['Cluster Labels'] == 4, toronto_merged.columns[[0] + list(range(1, toronto_merged.shape[1]))]].head()"
   ]
  },
  {
   "cell_type": "markdown",
   "metadata": {},
   "source": [
    "#### 6. Cluster = 5. Although located in North York, shows high school areas and isolated in a single cluster."
   ]
  },
  {
   "cell_type": "code",
   "execution_count": 368,
   "metadata": {},
   "outputs": [
    {
     "data": {
      "text/html": [
       "<div>\n",
       "<style scoped>\n",
       "    .dataframe tbody tr th:only-of-type {\n",
       "        vertical-align: middle;\n",
       "    }\n",
       "\n",
       "    .dataframe tbody tr th {\n",
       "        vertical-align: top;\n",
       "    }\n",
       "\n",
       "    .dataframe thead th {\n",
       "        text-align: right;\n",
       "    }\n",
       "</style>\n",
       "<table border=\"1\" class=\"dataframe\">\n",
       "  <thead>\n",
       "    <tr style=\"text-align: right;\">\n",
       "      <th></th>\n",
       "      <th>PostalCode</th>\n",
       "      <th>Borough</th>\n",
       "      <th>Neighborhood</th>\n",
       "      <th>Latitude</th>\n",
       "      <th>Longitude</th>\n",
       "      <th>Cluster Labels</th>\n",
       "      <th>1st Most Common Venue</th>\n",
       "      <th>2nd Most Common Venue</th>\n",
       "      <th>3rd Most Common Venue</th>\n",
       "      <th>4th Most Common Venue</th>\n",
       "      <th>5th Most Common Venue</th>\n",
       "    </tr>\n",
       "  </thead>\n",
       "  <tbody>\n",
       "    <tr>\n",
       "      <th>20</th>\n",
       "      <td>M2L</td>\n",
       "      <td>North York</td>\n",
       "      <td>Silver Hills,York Mills</td>\n",
       "      <td>43.75749</td>\n",
       "      <td>-79.374714</td>\n",
       "      <td>5</td>\n",
       "      <td>Park</td>\n",
       "      <td>Pool</td>\n",
       "      <td>Zoo</td>\n",
       "      <td>Filipino Restaurant</td>\n",
       "      <td>Ethiopian Restaurant</td>\n",
       "    </tr>\n",
       "  </tbody>\n",
       "</table>\n",
       "</div>"
      ],
      "text/plain": [
       "   PostalCode     Borough             Neighborhood  Latitude  Longitude  \\\n",
       "20        M2L  North York  Silver Hills,York Mills  43.75749 -79.374714   \n",
       "\n",
       "    Cluster Labels 1st Most Common Venue 2nd Most Common Venue  \\\n",
       "20               5                  Park                  Pool   \n",
       "\n",
       "   3rd Most Common Venue 4th Most Common Venue 5th Most Common Venue  \n",
       "20                   Zoo   Filipino Restaurant  Ethiopian Restaurant  "
      ]
     },
     "execution_count": 368,
     "metadata": {},
     "output_type": "execute_result"
    }
   ],
   "source": [
    "toronto_merged.loc[toronto_merged['Cluster Labels'] == 5, toronto_merged.columns[[0] + list(range(1, toronto_merged.shape[1]))]]"
   ]
  },
  {
   "cell_type": "markdown",
   "metadata": {},
   "source": [
    "### End of Part 1"
   ]
  }
 ],
 "metadata": {
  "kernelspec": {
   "display_name": "Python 3.6",
   "language": "python",
   "name": "python3"
  },
  "language_info": {
   "codemirror_mode": {
    "name": "ipython",
    "version": 3
   },
   "file_extension": ".py",
   "mimetype": "text/x-python",
   "name": "python",
   "nbconvert_exporter": "python",
   "pygments_lexer": "ipython3",
   "version": "3.6.9"
  }
 },
 "nbformat": 4,
 "nbformat_minor": 1
}
